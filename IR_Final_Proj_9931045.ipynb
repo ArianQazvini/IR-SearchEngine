{
 "cells": [
  {
   "cell_type": "code",
   "execution_count": 16,
   "id": "initial_id",
   "metadata": {
    "collapsed": true,
    "ExecuteTime": {
     "end_time": "2024-06-29T09:26:36.738493400Z",
     "start_time": "2024-06-29T09:26:36.702489200Z"
    }
   },
   "outputs": [],
   "source": [
    "import json\n",
    "import re\n",
    "import parsivar\n",
    "from collections import Counter\n",
    "from string import punctuation\n",
    "import numpy as np"
   ]
  },
  {
   "cell_type": "code",
   "execution_count": 17,
   "outputs": [],
   "source": [
    "with open('IR_data_news.json', 'r', encoding='utf-8') as file:\n",
    "    json_data = file.read()\n",
    "data = json.loads(json_data)\n",
    "news = {}\n",
    "contents = []\n",
    "titles = []\n",
    "urls =[]\n",
    "for id, dt in data.items():\n",
    "    news[str(id)] = { 'content': dt['content'],\n",
    "                       'title': dt['title'],\n",
    "                       'url': dt['url']\n",
    "    }\n",
    "    contents.append(dt['content'])\n",
    "    titles.append(dt['title'])\n",
    "    urls.append(dt['url'])"
   ],
   "metadata": {
    "collapsed": false,
    "ExecuteTime": {
     "end_time": "2024-06-29T09:26:37.388501600Z",
     "start_time": "2024-06-29T09:26:36.743000900Z"
    }
   },
   "id": "2c3dbea6e75ac969"
  },
  {
   "cell_type": "markdown",
   "source": [
    "## Tokenize"
   ],
   "metadata": {
    "collapsed": false
   },
   "id": "f31d6eef5152d4dd"
  },
  {
   "cell_type": "code",
   "execution_count": 18,
   "outputs": [
    {
     "name": "stdout",
     "output_type": "stream",
     "text": [
      "['به', 'گزارش', 'خبرگزاری', 'فارس', 'کنفدراسیون', 'فوتبال', 'آسیا', 'AFC', 'در', 'نامه', 'ای', 'رسمی', 'به', 'فدراسیون', 'فوتبال', 'ایران', 'و', 'باشگاه', 'گیتی', 'پسند', 'زمان', 'قرعه', 'کشی', 'جام', 'باشگاه', 'های', 'فوتسال', 'آسیا', 'را', 'رسماً', 'اعلام', 'کرد', 'بر', 'این', 'اساس', '25', 'فروردین', 'ماه', '1401', 'مراسم', 'قرعه', 'کشی', 'جام', 'باشگاه', 'های', 'فوتسال', 'آسیا', 'در', 'مالزی', 'برگزار', 'می', 'شود', 'باشگاه', 'گیتی', 'پسند', 'بعنوان', 'قهرمان', 'فوتسال', 'ایران', 'در', 'سال', '1400', 'به', 'این', 'مسابقات', 'راه', 'پیدا', 'کرده', 'است', 'پیش', 'از', 'این', 'گیتی', 'پسند', 'تجربه', '3', 'دوره', 'حضور', 'در', 'جام', 'باشگاه', 'های', 'فوتسال', 'آسیا', 'را', 'داشته', 'که', 'هر', 'سه', 'دوره', 'به', 'فینال', 'مسابقات', 'راه', 'پیدا', 'کرده', 'و', 'یک', 'عنوان', 'قهرمانی', 'و', 'دو', 'مقام', 'دومی', 'بدست', 'آورده', 'است', 'انتهای', 'پیام']\n"
     ]
    }
   ],
   "source": [
    "def tokenize(text):\n",
    "    pattern = re.compile(r'([؟!?]+|[\\d.:]+|[:.،؛»\\])}\"«\\[({/\\\\])')\n",
    "    text = pattern.sub(r\" \\1 \", text.replace(\"\\n\", \" \").replace(\"\\t\", \" \").replace(\"\\xa0\",\" \"))\n",
    "    tokens = [word for word in text.split(\" \") if word]\n",
    "    punctuations = [\n",
    "        ')', '(', '>', '<', \"؛\", \"،\", '{', '}', \"؟\", ':', \"–\", '»', '\"', '«', '[', ']', '\"', '+', '=', '?',\n",
    "        '/', '//', '\\\\', '|', '!', '%', '&', '*', '$', '#', '؟', '*', '.', '_', '', 'EMAIL', 'LINK', 'ID', 'NUM',\n",
    "        'NUMF', ' ', '-'\n",
    "    ]\n",
    "    tokens = [element for element in tokens if element not in punctuations] \n",
    "    \n",
    "    before_verbs = {\n",
    "        \"خواهم\",\n",
    "        \"خواهی\",\n",
    "        \"خواهد\",\n",
    "        \"خواهیم\",\n",
    "        \"خواهید\",\n",
    "        \"خواهند\",\n",
    "        \"نخواهم\",\n",
    "        \"نخواهی\",\n",
    "        \"نخواهد\",\n",
    "        \"نخواهیم\",\n",
    "        \"نخواهید\",\n",
    "        \"نخواهند\",\n",
    "    }\n",
    "    if len(tokens) == 1:\n",
    "        return tokens\n",
    "    result = [\"\"]\n",
    "    for token in reversed(tokens):\n",
    "        if token in before_verbs:\n",
    "            result[-1] = token + \"_\" + result[-1]\n",
    "        else:\n",
    "            result.append(token)\n",
    "    return list(reversed(result[1:]))\n",
    "    \n",
    "\n",
    "            \n",
    "text = 'خواهم رفت'\n",
    "text2 = news['0']['content']\n",
    "print(tokenize(text2))"
   ],
   "metadata": {
    "collapsed": false,
    "ExecuteTime": {
     "end_time": "2024-06-29T09:26:37.390498300Z",
     "start_time": "2024-06-29T09:26:37.380505Z"
    }
   },
   "id": "57b536acdb2f08b8"
  },
  {
   "cell_type": "markdown",
   "source": [
    "## Normalization"
   ],
   "metadata": {
    "collapsed": false
   },
   "id": "c6f0bac4d9b905cf"
  },
  {
   "cell_type": "code",
   "execution_count": 19,
   "outputs": [],
   "source": [
    "class TextNormalizer:\n",
    "    def __init__(self):\n",
    "        self.setup_patterns()\n",
    "        self.load_verb_data()\n",
    "\n",
    "    def setup_patterns(self):\n",
    "        self.punctuation_marks = {\n",
    "            'after': r\"\\.:!،؛؟»\\]\\)\\}\",\n",
    "            'before': r\"«\\[\\(\\{\",\n",
    "            'all': r\"[\\.:!،؛؟»\\'\\]\\)\\}|«\\[\\(\\/\\{><+\\-?!=_]\"\n",
    "        }\n",
    "        self.spacing_patterns = {\n",
    "            'extra_spaces': (r\" {2,}\", \" \"),\n",
    "            'extra_newlines': (r\"\\n{3,}\", \"\\n\\n\"),\n",
    "            'extra_ZWNJs': (r\"\\u200c{2,}\", \"\\u200c\"),\n",
    "            'remove_ZWNJ_spaces': (r\"\\u200c+\\s|\\s+\\u200c+\", \" \"),\n",
    "            'trim_ZWNJ_word_bounds': (r\"\\b\\u200c*\\B|\\B\\u200c*\\b\", \" \"),\n",
    "            'remove_keshide': (r\"[-\\r]\", \" \"),\n",
    "            'remove_no_break_space': (r\"\\xa0\", \" \"),  # remove no-break char\n",
    "            'fix_ye_space': (r\"([^ ]) ی \", r\"\\1‌ی \"),  # fix 'ی' space\n",
    "            'fix_mi_space': (r\"(^| )(ن?می) \", r\"\\1\\2‌\"),  # fix 'می' and 'نمی' space\n",
    "            'fix_suffix_spacing': (r\"(?<=[^\\n\\d\" + self.punctuation_marks['after'] + self.punctuation_marks['before'] + r\"]{2}) (تر(ین?)?|گری?|های?)(?=[ \\n\" + self.punctuation_marks['after'] + self.punctuation_marks['before'] + r\"]|$)\", r\"‌\\1\"),  # fix suffix spacing\n",
    "            'fix_verb_conjugation_spacing': (r\"([^ ]ه) (ا(م|یم|ش|ند|ی|ید|ت))(?=[ \\n\" + self.punctuation_marks['after'] + r\"]|$)\", r\"\\1‌\\2\"),  # fix verb conjugation spacing\n",
    "             'fix_ha_suffix': (r\"(ه)(ها)\", r\"\\1‌\\2\"),  # fix 'ها' suffix\n",
    "             'remove_quotation_spaces': ('\" ([^\\n\"]+) \"', r'\"\\1\"'),  # remove space before and after quotation\n",
    "            'remove_space_before_punctuation': (\" ([\" + self.punctuation_marks['after'] + \"])\", r\"\\1\"),  # remove space before punctuation\n",
    "            'remove_space_after_punctuation': (\"([\" + self.punctuation_marks['before'] + \"]) \", r\"\\1\"),  # remove space after punctuation\n",
    "            'add_space_after_period_colon': (\n",
    "                \"([\" + self.punctuation_marks['after'][:3] + \"])([^ \" + self.punctuation_marks['after'] + r\"\\d۰۱۲۳۴۵۶۷۸۹])\",\n",
    "                r\"\\1 \\2\"\n",
    "            ),  # put space after . and :\n",
    "            'add_space_after_other_punctuation': (\n",
    "                \"([\" + self.punctuation_marks['after'][3:] + \"])([^ \" + self.punctuation_marks['after'] + \"])\",\n",
    "                r\"\\1 \\2\"\n",
    "            ),  # put space after other specified punctuation\n",
    "            'add_space_before_punctuation': (\n",
    "                \"([^ \" + self.punctuation_marks['before'] + \"])([\" + self.punctuation_marks['before'] + \"])\",\n",
    "                r\"\\1 \\2\"\n",
    "            ),  # put space before punctuation\n",
    "            'add_space_after_number_letters': (\n",
    "                r\"(\\d)([آابپتثجچحخدذرزژسشصضطظعغفقکگلمنوهی])\",\n",
    "                r\"\\1 \\2\"\n",
    "            ),  # put space after numbers before letters\n",
    "            'add_space_before_number_letters': (\n",
    "                r\"([آابپتثجچحخدذرزژسشصضطظعغفقکگلمنوهی])(\\d)\",\n",
    "                r\"\\1 \\2\"\n",
    "            )  # put space before numbers after letters     \n",
    "        }\n",
    "        \n",
    "        \n",
    "        self.mi_pattern = r\"\\bن?می[آابپتثجچحخدذرزژسشصضطظعغفقکگلمنوهی]+\"\n",
    "    \n",
    "        self.number_map = {\n",
    "            'not_persian': \"0123456789%٠١٢٣٤٥٦٧٨٩\",\n",
    "            'persian': \"۰۱۲۳۴۵۶۷۸۹٪۰۱۲۳۴۵۶۷۸۹\"\n",
    "        }\n",
    "        self.arabic_replacements = {\n",
    "            \"[\\u064b\\u064c\\u064d\\u064e\\u064f\\u0650\\u0651\\u0652]\": \"\",  # Arabic diacritics -remove FATHATAN, DAMMATAN, KASRATAN, FATHA, DAMMA, KASRA, SHADDA, SUKUN\n",
    "            \"[ك]\": \"ک\",\n",
    "            \"[ي]\": \"ی\",\n",
    "            \"[هٔ]\": \"ه\",\n",
    "            \"[أ]\": \"ا\"\n",
    "        }\n",
    "        self.unicode_replacements = {\n",
    "            \"﷽\": \" بسم الله الرحمن الرحیم \",\n",
    "            \"﷼\": \" ریال\",\n",
    "            \"(ﷰ|ﷹ)\": \" صلی \",\n",
    "            \"ﷲ\": \" الله\",\n",
    "            \"ﷳ\": \" اکبر\",\n",
    "            \"ﷴ\": \" محمد\",\n",
    "            \"ﷵ\": \" صلعم\",\n",
    "            \"ﷶ\": \" رسول\",\n",
    "            \"ﷷ\": \" علیه\",\n",
    "            \"ﷸ\": \" وسلم\",\n",
    "            \"ﻵ|ﻶ|ﻷ|ﻸ|ﻹ|ﻺ|ﻻ|ﻼ\": \" لا\"\n",
    "        }\n",
    "        self.more_than_two_repeat_pattern = (\n",
    "                r\"([آابپتثجچحخدذرزژسشصضطظعغفقکگلمنوهی])\\1{2,}\"\n",
    "            )\n",
    "        self.repeated_chars_pattern = (\n",
    "                r\"[آابپتثجچحخدذرزژسشصضطظعغفقکگلمنوهی]*\"\n",
    "                + self.more_than_two_repeat_pattern\n",
    "                + \"[آابپتثجچحخدذرزژسشصضطظعغفقکگلمنوهی]*\"\n",
    "            )\n",
    "        \n",
    "        \n",
    "    def load_verb_data(self):\n",
    "        with open('verbs.dat', 'r', encoding='utf-8') as file:\n",
    "            verbs = [line.strip() for line in file if line.strip()]\n",
    "            self.present_bons = {verb.split('#')[0].strip() for verb in verbs if '#' in verb}\n",
    "            self.past_bons = {verb.split('#')[1].strip() for verb in verbs if '#' in verb}\n",
    "    \n",
    "    def decrease_repeated_chars(self: \"Normalizer\", text: str) -> str:\n",
    "        \"\"\"\n",
    "\n",
    "        Examples:\n",
    "            >>> normalizer = Normalizer()\n",
    "            >>> normalizer.decrease_repeated_chars('سلامممم به همه')\n",
    "            'سلام به همه'\n",
    "        \"\"\"\n",
    "        matches = re.finditer(self.repeated_chars_pattern, text)\n",
    "        for m in matches:\n",
    "            print(m)\n",
    "            print(\"--------\")\n",
    "            word = m.group()\n",
    "            words = tokenize(text)\n",
    "            if word in words:\n",
    "                no_repeat = re.sub(self.more_than_two_repeat_pattern, r\"\\1\", word)\n",
    "                two_repeat = re.sub(self.more_than_two_repeat_pattern, r\"\\1\\1\", word)\n",
    "\n",
    "                if (no_repeat in words) != (two_repeat in words):\n",
    "                    r = no_repeat if no_repeat in words else two_repeat\n",
    "                    text = text.replace(word, r)\n",
    "                else:\n",
    "                    text = text.replace(word, two_repeat)\n",
    "\n",
    "        return text \n",
    "    \n",
    "    def regex_replace(self, pattern_dict, text):\n",
    "        for pattern, replacement in pattern_dict.items():\n",
    "            text = re.sub(pattern, replacement, text)\n",
    "        return text\n",
    "\n",
    "    def correct_spacing(self, text):\n",
    "        for pattern_name, item in self.spacing_patterns.items():\n",
    "            text = re.sub(item[0], item[1], text)\n",
    "        return text\n",
    "\n",
    "    def translate_numbers(self, text):\n",
    "        translation_table = str.maketrans(self.number_map['not_persian'], self.number_map['persian'])\n",
    "        return text.translate(translation_table)\n",
    "    \n",
    "    def seperate_mi(self, text):\n",
    "        matches = re.findall(self.mi_pattern, text)\n",
    "        for m in matches:\n",
    "            without_mi = re.sub(\"^(ن?می)\", \"\", m)\n",
    "            if without_mi in self.present_bons or self.past_bons:\n",
    "                    corrected_format_text = re.sub(\"^(ن?می)\", r\"\\1‌\", m)\n",
    "                    text = text.replace(m, corrected_format_text)\n",
    "        return text\n",
    "\n",
    "    def remove_punc_marks(self, text):\n",
    "        for pattern_name, pattern in self.punctuation_marks.items():\n",
    "            text = re.sub(pattern, \"\", text)\n",
    "        return text\n",
    "        \n",
    "    def normalize(self, text):\n",
    "        text= self.remove_punc_marks(text)\n",
    "        text = self.seperate_mi(text)\n",
    "        text = self.regex_replace(self.arabic_replacements, text)\n",
    "        text = self.regex_replace(self.unicode_replacements, text)\n",
    "        text = self.translate_numbers(text)\n",
    "        text = self.correct_spacing(text)\n",
    "        #--- text = self.decrease_repeated_chars(text)\n",
    "        return text"
   ],
   "metadata": {
    "collapsed": false,
    "ExecuteTime": {
     "end_time": "2024-06-29T09:26:37.423499800Z",
     "start_time": "2024-06-29T09:26:37.403498700Z"
    }
   },
   "id": "42d0452cc5cb3ee2"
  },
  {
   "cell_type": "code",
   "execution_count": 20,
   "outputs": [
    {
     "name": "stdout",
     "output_type": "stream",
     "text": [
      "\n",
      "  به گزارش خبرنگار ورزشی فارس بعد از برکناری ناظم الشریعه سرمربی تیم ملی فوتسال وحید شمسایی به عنوان سکاندار جدید  این تیم معرفی شد اما بعد از عزل عزیزی خادم ریاست فدراسیون فوتبال  قرارداد وی و کادر فنی  از سوی فدراسیون مورد تایید قرار نگرفت  در نهایت این قرارداد در جلسه هیات رئیسه در مشهد مطرح و مورد تصویب اعضا قرار گرفت و بر همین اساس شب گذشته این قرارداد از سوی ذیحسابی و اعضای هیات رییسه فدراسیون نهایی و  جهت ابلاغ به سرمربی تیم ملی ارسال شد انتهای پیام\n"
     ]
    }
   ],
   "source": [
    "normalizer = TextNormalizer()\n",
    "text = news['45']['content']\n",
    "normalized_text = normalizer.normalize(text)\n",
    "print(normalized_text)"
   ],
   "metadata": {
    "collapsed": false,
    "ExecuteTime": {
     "end_time": "2024-06-29T09:26:37.425497900Z",
     "start_time": "2024-06-29T09:26:37.407498400Z"
    }
   },
   "id": "9571a524e2560f48"
  },
  {
   "cell_type": "code",
   "execution_count": 21,
   "outputs": [],
   "source": [
    "def delete_punctuations(text):\n",
    "    return re.sub(f'[{punctuation}؟،٪×÷»«]+', '', text)"
   ],
   "metadata": {
    "collapsed": false,
    "ExecuteTime": {
     "end_time": "2024-06-29T09:26:37.445736Z",
     "start_time": "2024-06-29T09:26:37.422498600Z"
    }
   },
   "id": "7f7f623b739a6624"
  },
  {
   "cell_type": "code",
   "execution_count": 22,
   "outputs": [
    {
     "name": "stdout",
     "output_type": "stream",
     "text": [
      "Before Stemming tokens: ['به', 'گزارش', 'خبرنگار', 'ورزشی', 'فارس', 'بعد', 'از', 'برکناری', 'ناظم', 'الشریعه', 'سرمربی', 'تیم', 'ملی', 'فوتسال', 'وحید', 'شمسایی', 'به', 'عنوان', 'سکاندار', 'جدید', 'این', 'تیم', 'معرفی', 'شد', 'اما', 'بعد', 'از', 'عزل', 'عزیزی', 'خادم', 'ریاست', 'فدراسیون', 'فوتبال', 'قرارداد', 'وی', 'و', 'کادر', 'فنی', 'از', 'سوی', 'فدراسیون', 'مورد', 'تایید', 'قرار', 'نگرفت', 'در', 'نهایت', 'این', 'قرارداد', 'در', 'جلسه', 'هیات', 'رئیسه', 'در', 'مشهد', 'مطرح', 'و', 'مورد', 'تصویب', 'اعضا', 'قرار', 'گرفت', 'و', 'بر', 'همین', 'اساس', 'شب', 'گذشته', 'این', 'قرارداد', 'از', 'سوی', 'ذیحسابی', 'و', 'اعضای', 'هیات', 'رییسه', 'فدراسیون', 'نهایی', 'و', 'جهت', 'ابلاغ', 'به', 'سرمربی', 'تیم', 'ملی', 'ارسال', 'شد', 'انتهای', 'پیام']\n",
      "After Stemming tokens ['به', 'گزارش', 'خبرنگار', 'ورزشی', 'فارس', 'بعد', 'از', 'برکناری', 'ناظم', 'الشریعه', 'سرمربی', 'تیم', 'ملی', 'فوتسال', 'وحید', 'شمسایی', 'به', 'عنوان', 'سکاندار', 'جدید', 'این', 'تیم', 'معرفی', 'شد', 'اما', 'بعد', 'از', 'عزل', 'عزیزی', 'خادم', 'ریاست', 'فدراسیون', 'فوتبال', 'قرارداد', 'وی', 'و', 'کادر', 'فنی', 'از', 'سوی', 'فدراسیون', 'مورد', 'تایید', 'قرار', 'گرفت&گیر', 'در', 'نهایت', 'این', 'قرارداد', 'در', 'جلسه', 'هیات', 'رئیسه', 'در', 'مشهد', 'مطرح', 'و', 'مورد', 'تصویب', 'عضو', 'قرار', 'گرفت&گیر', 'و', 'بر', 'همین', 'اساس', 'شب', 'گذشته', 'این', 'قرارداد', 'از', 'سوی', 'ذیحسابی', 'و', 'عضو', 'هیات', 'رییسه', 'فدراسیون', 'نهایی', 'و', 'جهت', 'ابلاغ', 'به', 'سرمربی', 'تیم', 'ملی', 'ارسال', 'شد', 'انتهای', 'پیام']\n"
     ]
    }
   ],
   "source": [
    "def stemming(tokens):\n",
    "        stemmed = []\n",
    "        stemmer = parsivar.FindStems()\n",
    "        for token in tokens:\n",
    "            stemmed.append(stemmer.convert_to_stem(token))\n",
    "        return stemmed\n",
    "text_tokens= tokenize(text)\n",
    "print(\"Before Stemming tokens:\",text_tokens)\n",
    "text_tokens_stemmed  = stemming(text_tokens)\n",
    "print(\"After Stemming tokens\",text_tokens_stemmed)"
   ],
   "metadata": {
    "collapsed": false,
    "ExecuteTime": {
     "end_time": "2024-06-29T09:26:37.454740900Z",
     "start_time": "2024-06-29T09:26:37.439542300Z"
    }
   },
   "id": "a25c9b88dd951c9c"
  },
  {
   "cell_type": "code",
   "execution_count": 23,
   "outputs": [],
   "source": [
    "def top_k_frequent(tokens, k):\n",
    "    token_counts = Counter(tokens)\n",
    "    most_common_tokens = token_counts.most_common(k)\n",
    "    return most_common_tokens"
   ],
   "metadata": {
    "collapsed": false,
    "ExecuteTime": {
     "end_time": "2024-06-29T09:26:37.485736Z",
     "start_time": "2024-06-29T09:26:37.453736200Z"
    }
   },
   "id": "6b3ecc1f4429a2ae"
  },
  {
   "cell_type": "code",
   "execution_count": 24,
   "outputs": [
    {
     "name": "stdout",
     "output_type": "stream",
     "text": [
      "300 docs processed\n",
      "600 docs processed\n",
      "900 docs processed\n",
      "1200 docs processed\n",
      "1500 docs processed\n",
      "1800 docs processed\n",
      "2100 docs processed\n",
      "2400 docs processed\n",
      "2700 docs processed\n",
      "3000 docs processed\n",
      "3300 docs processed\n",
      "3600 docs processed\n",
      "3900 docs processed\n",
      "4200 docs processed\n",
      "4500 docs processed\n",
      "4800 docs processed\n",
      "5100 docs processed\n",
      "5400 docs processed\n",
      "5700 docs processed\n",
      "6000 docs processed\n",
      "6300 docs processed\n",
      "6600 docs processed\n",
      "6900 docs processed\n",
      "7200 docs processed\n",
      "7500 docs processed\n",
      "7800 docs processed\n",
      "8100 docs processed\n",
      "8400 docs processed\n",
      "8700 docs processed\n",
      "9000 docs processed\n",
      "9300 docs processed\n",
      "9600 docs processed\n",
      "9900 docs processed\n",
      "10200 docs processed\n",
      "10500 docs processed\n",
      "10800 docs processed\n",
      "11100 docs processed\n",
      "11400 docs processed\n",
      "11700 docs processed\n",
      "12000 docs processed\n"
     ]
    }
   ],
   "source": [
    "\n",
    "total_tokens = []\n",
    "counter = 0\n",
    "for id,data in news.items():\n",
    "    text = data['content']\n",
    "    text = delete_punctuations(text)\n",
    "    text = normalizer.normalize(text)\n",
    "    tokens = tokenize(text)\n",
    "    stemmed_tokens = stemming(tokens)\n",
    "    data['stemmed_tokens'] = stemmed_tokens\n",
    "    total_tokens+= stemmed_tokens\n",
    "    counter += 1\n",
    "    if counter % 300 == 0:\n",
    "        print(counter, 'docs processed')\n",
    " \n",
    "    \n",
    "   \n"
   ],
   "metadata": {
    "collapsed": false,
    "ExecuteTime": {
     "end_time": "2024-06-29T09:28:47.370817800Z",
     "start_time": "2024-06-29T09:26:37.469735700Z"
    }
   },
   "id": "5813218f806ac786"
  },
  {
   "cell_type": "code",
   "execution_count": 25,
   "outputs": [
    {
     "name": "stdout",
     "output_type": "stream",
     "text": [
      "[('و', 219205), ('در', 164329), ('به', 133276), ('از', 92929), ('این', 82976), ('که', 76240), ('با', 68992), ('را', 67489), ('اس', 58060), ('کرد&کن', 45105), ('برای', 30996), ('داشت&دار', 30051), ('شد&شو', 29280), ('تیم', 27692), ('کرد', 22936), ('بود&باش', 22489), ('هم', 22386), ('کشور', 21730), ('ما', 19715), ('یک', 18733), ('بازی', 17796), ('آن', 16860), ('شد', 16595), ('باید', 16196), ('تا', 15870), ('بر', 15685), ('وی', 15483), ('داد&ده', 14849), ('شده', 14578), ('خود', 14552), ('مجلس', 14520), ('اسلامی', 14416), ('گزارش', 14040), ('فارس', 13969), ('گفت', 13773), ('مردم', 13201), ('پیام', 13112), ('ایران', 12717), ('خبرگزاری', 12429), ('انتهای', 12250), ('دولت', 12236), ('اما', 12105), ('سال', 11954), ('گرفت&گیر', 11845), ('رئیس', 11627), ('توانست&توان', 11059), ('بازیکن', 11023), ('داشت&دارد', 10782), ('ملی', 10235), ('اینکه', 10051)]\n"
     ]
    }
   ],
   "source": [
    "top_50 = top_k_frequent(total_tokens,50)\n",
    "top_50_tks = [x[0] for x in top_50]\n",
    "print(top_50)\n",
    "# for count, tk in top_50:\n",
    "#     print(count,tk)\n",
    "    # print(\"-----\")"
   ],
   "metadata": {
    "collapsed": false,
    "ExecuteTime": {
     "end_time": "2024-06-29T09:28:48.268283100Z",
     "start_time": "2024-06-29T09:28:47.372808700Z"
    }
   },
   "id": "efe5b5983789c7fc"
  },
  {
   "cell_type": "code",
   "execution_count": 26,
   "outputs": [
    {
     "name": "stdout",
     "output_type": "stream",
     "text": [
      "Deleted top 50 tokens for doc 45: ['به', 'گزارش', 'فارس', 'از', 'تیم', 'ملی', 'این', 'شد', 'اما', 'وی', 'و', 'گرفت&گیر', 'در', 'بر', 'انتهای', 'پیام']\n"
     ]
    }
   ],
   "source": [
    "for id,data in news.items():          \n",
    "    data['stemmed_tokens'] = [token for token in data['stemmed_tokens'] if token not in top_50_tks]\n",
    "         "
   ],
   "metadata": {
    "collapsed": false,
    "ExecuteTime": {
     "end_time": "2024-06-29T09:28:51.562769500Z",
     "start_time": "2024-06-29T09:28:48.269276900Z"
    }
   },
   "id": "f85e18df64ce74f9"
  },
  {
   "cell_type": "markdown",
   "source": [
    "## Add new News and preprocessings"
   ],
   "metadata": {
    "collapsed": false
   },
   "id": "885431b232b766da"
  },
  {
   "cell_type": "markdown",
   "source": [
    "### Positional Index"
   ],
   "metadata": {
    "collapsed": false
   },
   "id": "36e734845086998f"
  },
  {
   "cell_type": "code",
   "execution_count": 32,
   "outputs": [
    {
     "name": "stdout",
     "output_type": "stream",
     "text": [
      "کنفدراسیون\n",
      "{'docs': {'0': {'positions': [0], 'tf': 1}, '8': {'positions': [178], 'tf': 1}, '34': {'positions': [98], 'tf': 1}, '202': {'positions': [89], 'tf': 1}, '305': {'positions': [18], 'tf': 1}, '387': {'positions': [41], 'tf': 1}, '409': {'positions': [1, 47], 'tf': 2}, '482': {'positions': [148], 'tf': 1}, '483': {'positions': [1, 58], 'tf': 2}, '495': {'positions': [119], 'tf': 1}, '496': {'positions': [5, 38], 'tf': 2}, '502': {'positions': [22], 'tf': 1}, '561': {'positions': [0], 'tf': 1}, '768': {'positions': [2], 'tf': 1}, '798': {'positions': [63], 'tf': 1}, '884': {'positions': [1, 25, 82], 'tf': 3}, '893': {'positions': [0], 'tf': 1}, '897': {'positions': [0], 'tf': 1}, '947': {'positions': [289], 'tf': 1}, '1010': {'positions': [3], 'tf': 1}, '1105': {'positions': [69, 89, 176, 189], 'tf': 4}, '1199': {'positions': [24], 'tf': 1}, '1201': {'positions': [44, 85], 'tf': 2}, '1271': {'positions': [48], 'tf': 1}, '1308': {'positions': [2, 222], 'tf': 2}, '1315': {'positions': [48], 'tf': 1}, '1331': {'positions': [77], 'tf': 1}, '1357': {'positions': [1], 'tf': 1}, '1364': {'positions': [1], 'tf': 1}, '1381': {'positions': [1], 'tf': 1}, '1548': {'positions': [8], 'tf': 1}, '1553': {'positions': [34], 'tf': 1}, '1584': {'positions': [1, 61], 'tf': 2}, '1604': {'positions': [62], 'tf': 1}, '1606': {'positions': [125, 135], 'tf': 2}, '1618': {'positions': [1, 61], 'tf': 2}, '1671': {'positions': [1, 57], 'tf': 2}, '1675': {'positions': [120], 'tf': 1}, '1844': {'positions': [0, 56], 'tf': 2}, '1848': {'positions': [0, 21], 'tf': 2}, '1974': {'positions': [150], 'tf': 1}, '2000': {'positions': [1], 'tf': 1}, '2002': {'positions': [0, 48], 'tf': 2}, '2003': {'positions': [0], 'tf': 1}, '2009': {'positions': [15], 'tf': 1}, '2011': {'positions': [27], 'tf': 1}, '2012': {'positions': [46], 'tf': 1}, '2024': {'positions': [14, 89], 'tf': 2}, '2041': {'positions': [77], 'tf': 1}, '2049': {'positions': [36], 'tf': 1}, '2075': {'positions': [1, 42], 'tf': 2}, '2086': {'positions': [11], 'tf': 1}, '2091': {'positions': [33, 89], 'tf': 2}, '2162': {'positions': [67], 'tf': 1}, '2219': {'positions': [44, 64, 77], 'tf': 3}, '2385': {'positions': [312], 'tf': 1}, '2554': {'positions': [85], 'tf': 1}, '2626': {'positions': [254], 'tf': 1}, '2641': {'positions': [289, 770], 'tf': 2}, '2642': {'positions': [85], 'tf': 1}, '2667': {'positions': [107], 'tf': 1}, '2701': {'positions': [117], 'tf': 1}, '2716': {'positions': [23], 'tf': 1}, '2742': {'positions': [43], 'tf': 1}, '2782': {'positions': [442], 'tf': 1}, '2803': {'positions': [7, 59, 82, 95, 101], 'tf': 5}, '2805': {'positions': [17], 'tf': 1}, '2815': {'positions': [19, 63], 'tf': 2}, '2870': {'positions': [0, 57], 'tf': 2}, '2887': {'positions': [113], 'tf': 1}, '2898': {'positions': [21, 81], 'tf': 2}, '2962': {'positions': [71], 'tf': 1}, '3066': {'positions': [29], 'tf': 1}, '3097': {'positions': [39], 'tf': 1}, '3107': {'positions': [18], 'tf': 1}, '3133': {'positions': [23], 'tf': 1}, '3222': {'positions': [80], 'tf': 1}, '3329': {'positions': [6, 82], 'tf': 2}, '3350': {'positions': [70], 'tf': 1}, '3357': {'positions': [102], 'tf': 1}, '3384': {'positions': [34, 86], 'tf': 2}, '3403': {'positions': [139], 'tf': 1}, '3426': {'positions': [7, 50], 'tf': 2}, '3457': {'positions': [1999], 'tf': 1}, '3512': {'positions': [22], 'tf': 1}, '3572': {'positions': [141], 'tf': 1}, '3602': {'positions': [18], 'tf': 1}, '3642': {'positions': [71, 135], 'tf': 2}, '3674': {'positions': [7, 79], 'tf': 2}, '3692': {'positions': [38], 'tf': 1}, '3710': {'positions': [33, 57], 'tf': 2}, '3714': {'positions': [12], 'tf': 1}, '3716': {'positions': [109], 'tf': 1}, '3735': {'positions': [103], 'tf': 1}, '3764': {'positions': [3], 'tf': 1}, '3843': {'positions': [21], 'tf': 1}, '3904': {'positions': [85], 'tf': 1}, '3907': {'positions': [0, 63], 'tf': 2}, '3948': {'positions': [159, 327, 395], 'tf': 3}, '4091': {'positions': [6], 'tf': 1}, '4150': {'positions': [7], 'tf': 1}, '4212': {'positions': [54], 'tf': 1}, '4215': {'positions': [1], 'tf': 1}, '4245': {'positions': [17], 'tf': 1}, '4306': {'positions': [26], 'tf': 1}, '4322': {'positions': [58, 97], 'tf': 2}, '4347': {'positions': [151], 'tf': 1}, '4405': {'positions': [4], 'tf': 1}, '4408': {'positions': [16], 'tf': 1}, '4428': {'positions': [58, 98, 127], 'tf': 3}, '4429': {'positions': [93], 'tf': 1}, '4449': {'positions': [10], 'tf': 1}, '4529': {'positions': [4], 'tf': 1}, '4545': {'positions': [37, 50], 'tf': 2}, '4581': {'positions': [2], 'tf': 1}, '4618': {'positions': [123], 'tf': 1}, '4642': {'positions': [280], 'tf': 1}, '4666': {'positions': [1], 'tf': 1}, '4671': {'positions': [55], 'tf': 1}, '4779': {'positions': [1], 'tf': 1}, '4844': {'positions': [62, 344], 'tf': 2}, '4873': {'positions': [242], 'tf': 1}, '4890': {'positions': [797], 'tf': 1}, '4910': {'positions': [203], 'tf': 1}, '4962': {'positions': [105], 'tf': 1}, '4981': {'positions': [87, 151, 166, 293], 'tf': 4}, '4988': {'positions': [12, 24], 'tf': 2}, '4992': {'positions': [32], 'tf': 1}, '5020': {'positions': [24, 63], 'tf': 2}, '5029': {'positions': [152], 'tf': 1}, '5071': {'positions': [0, 28, 51], 'tf': 3}, '5102': {'positions': [3, 69, 287, 550, 656, 779, 844], 'tf': 7}, '5105': {'positions': [26], 'tf': 1}, '5112': {'positions': [3], 'tf': 1}, '5116': {'positions': [365], 'tf': 1}, '5125': {'positions': [39], 'tf': 1}, '5135': {'positions': [42], 'tf': 1}, '5209': {'positions': [336, 1044, 1164], 'tf': 3}, '5221': {'positions': [433, 495], 'tf': 2}, '5222': {'positions': [21, 199], 'tf': 2}, '5237': {'positions': [120], 'tf': 1}, '5241': {'positions': [0, 28, 115], 'tf': 3}, '5243': {'positions': [118], 'tf': 1}, '5245': {'positions': [0, 164], 'tf': 2}, '5247': {'positions': [106, 113], 'tf': 2}, '5254': {'positions': [290, 319], 'tf': 2}, '5260': {'positions': [7, 47, 67, 220, 231, 376], 'tf': 6}, '5274': {'positions': [1], 'tf': 1}, '5276': {'positions': [1, 27, 70, 122], 'tf': 4}, '5280': {'positions': [183], 'tf': 1}, '5285': {'positions': [291], 'tf': 1}, '5291': {'positions': [0, 18, 58, 66], 'tf': 4}, '5301': {'positions': [5], 'tf': 1}, '5314': {'positions': [30], 'tf': 1}, '5321': {'positions': [1], 'tf': 1}, '5410': {'positions': [8], 'tf': 1}, '5421': {'positions': [97], 'tf': 1}, '5445': {'positions': [798], 'tf': 1}, '5624': {'positions': [66, 101, 183, 205], 'tf': 4}, '5685': {'positions': [1], 'tf': 1}, '5726': {'positions': [19], 'tf': 1}, '5729': {'positions': [144, 367, 415, 482, 539], 'tf': 5}, '5738': {'positions': [1], 'tf': 1}, '5763': {'positions': [4, 12, 19, 34, 48], 'tf': 5}, '5900': {'positions': [19, 38, 100], 'tf': 3}, '5905': {'positions': [1], 'tf': 1}, '5913': {'positions': [128], 'tf': 1}, '5992': {'positions': [738], 'tf': 1}, '6002': {'positions': [18, 73], 'tf': 2}, '6003': {'positions': [2], 'tf': 1}, '6007': {'positions': [1], 'tf': 1}, '6012': {'positions': [56], 'tf': 1}, '6017': {'positions': [28, 127, 178], 'tf': 3}, '6040': {'positions': [1], 'tf': 1}, '6069': {'positions': [258], 'tf': 1}, '6104': {'positions': [97], 'tf': 1}, '6105': {'positions': [69, 83], 'tf': 2}, '6110': {'positions': [1], 'tf': 1}, '6113': {'positions': [12], 'tf': 1}, '6130': {'positions': [10, 18, 31, 37], 'tf': 4}, '6134': {'positions': [33, 89], 'tf': 2}, '6137': {'positions': [55], 'tf': 1}, '6140': {'positions': [20, 37, 58], 'tf': 3}, '6144': {'positions': [108, 141, 227, 237], 'tf': 4}, '6165': {'positions': [224], 'tf': 1}, '6171': {'positions': [353], 'tf': 1}, '6178': {'positions': [20], 'tf': 1}, '6186': {'positions': [103, 203, 213], 'tf': 3}, '6265': {'positions': [65, 112], 'tf': 2}, '6270': {'positions': [95, 96, 243, 325, 406], 'tf': 5}, '6274': {'positions': [1], 'tf': 1}, '6278': {'positions': [5], 'tf': 1}, '6306': {'positions': [67, 110, 193, 209, 336, 365], 'tf': 6}, '6320': {'positions': [4, 61, 112], 'tf': 3}, '6321': {'positions': [6, 31, 155], 'tf': 3}, '6332': {'positions': [0, 16], 'tf': 2}, '6333': {'positions': [51, 125], 'tf': 2}, '6392': {'positions': [1], 'tf': 1}, '6449': {'positions': [38, 41], 'tf': 2}, '6506': {'positions': [12], 'tf': 1}, '6611': {'positions': [143], 'tf': 1}, '6623': {'positions': [1], 'tf': 1}, '6626': {'positions': [1], 'tf': 1}, '6639': {'positions': [4], 'tf': 1}, '6673': {'positions': [79, 107], 'tf': 2}, '6708': {'positions': [1], 'tf': 1}, '8828': {'positions': [57], 'tf': 1}, '8841': {'positions': [207], 'tf': 1}}, 'freq': 331}\n"
     ]
    }
   ],
   "source": [
    "dictionary = {}\n",
    "def create_postings_list():\n",
    "    for id,data in news.items():\n",
    "        for pos,token in enumerate(data['stemmed_tokens']):\n",
    "            if token not in dictionary:\n",
    "                dictionary[token]= {}\n",
    "                dictionary[token]['docs'] = {}\n",
    "                dictionary[token]['freq'] = 1\n",
    "                dictionary[token]['docs'][str(id)]= {}\n",
    "                dictionary[token]['docs'][str(id)]['positions']=[]\n",
    "                dictionary[token]['docs'][str(id)]['positions'].append(pos)\n",
    "            else: \n",
    "                    if str(id) in dictionary[token]['docs']:\n",
    "                        dictionary[token]['docs'][str(id)]['positions'].append(pos)\n",
    "                        dictionary[token]['freq'] +=1\n",
    "                    else:    \n",
    "                        dictionary[token]['docs'][str(id)]= {}\n",
    "                        dictionary[token]['docs'][str(id)]['positions']=[]\n",
    "                        dictionary[token]['docs'][str(id)]['positions'].append(pos) \n",
    "                        dictionary[token]['freq']+=1        \n",
    "                \n",
    "create_postings_list()\n",
    "\n",
    "for term in dictionary:\n",
    "    for doc_id in dictionary[term]['docs']:\n",
    "        dictionary[term]['docs'][doc_id]['tf'] = len(dictionary[term]['docs'][doc_id]['positions'])\n",
    "        \n",
    "        \n",
    "for key,value in dictionary.items():\n",
    "    print(key)\n",
    "    print(value)\n",
    "    break"
   ],
   "metadata": {
    "collapsed": false,
    "ExecuteTime": {
     "end_time": "2024-06-29T09:31:28.689646200Z",
     "start_time": "2024-06-29T09:31:21.968467500Z"
    }
   },
   "id": "6ce146b1df1450"
  },
  {
   "cell_type": "markdown",
   "source": [
    "## tf-idf vectors (with champions list)"
   ],
   "metadata": {
    "collapsed": false
   },
   "id": "8a66e62013843e25"
  },
  {
   "cell_type": "code",
   "execution_count": 43,
   "outputs": [],
   "source": [
    "doc_vectors = {} # doc_id : { terms: tf-idf}\n",
    "N = len(news)\n",
    "for term in dictionary:\n",
    "    df_t = len(dictionary[term]['docs'])\n",
    "    for doc_id in dictionary[term]['docs']:\n",
    "        if doc_id not in doc_vectors:\n",
    "            doc_vectors[doc_id]= {}\n",
    "        tf_value= dictionary[term]['docs'][doc_id]['tf']\n",
    "        tf_idf = (1+np.log10(tf_value)) * np.log10(N/df_t)\n",
    "        doc_vectors[doc_id][term] = tf_idf\n",
    "        dictionary[term]['docs'][doc_id]['tf-idf'] = tf_idf\n",
    "        \n",
    "    dictionary[term]['chmp_list'] = sorted(dictionary[term]['docs'],key =lambda doc: dictionary[term]['docs'][doc]['tf'],reverse=True)\n",
    "    "
   ],
   "metadata": {
    "collapsed": false,
    "ExecuteTime": {
     "end_time": "2024-06-29T09:41:47.226884800Z",
     "start_time": "2024-06-29T09:41:42.988095200Z"
    }
   },
   "id": "d21ab6e0d7b34d5b"
  },
  {
   "cell_type": "code",
   "execution_count": 44,
   "outputs": [
    {
     "data": {
      "text/plain": "2.0323139750307972"
     },
     "execution_count": 44,
     "metadata": {},
     "output_type": "execute_result"
    }
   ],
   "source": [
    "doc_vectors['12132']['دانشگاه']"
   ],
   "metadata": {
    "collapsed": false,
    "ExecuteTime": {
     "end_time": "2024-06-29T09:41:49.235814900Z",
     "start_time": "2024-06-29T09:41:49.219823100Z"
    }
   },
   "id": "f31203309b75ad25"
  },
  {
   "cell_type": "code",
   "execution_count": 45,
   "outputs": [
    {
     "data": {
      "text/plain": "{'105': {'positions': [218, 228, 238], 'tf': 3, 'tf-idf': 1.6882558039616187},\n '154': {'positions': [836, 930, 1085], 'tf': 3, 'tf-idf': 1.6882558039616187},\n '452': {'positions': [237], 'tf': 1, 'tf-idf': 1.1429365047502662},\n '974': {'positions': [28, 54, 90], 'tf': 3, 'tf-idf': 1.6882558039616187},\n '1073': {'positions': [33, 78], 'tf': 2, 'tf-idf': 1.4869946758194448},\n '1307': {'positions': [38], 'tf': 1, 'tf-idf': 1.1429365047502662},\n '1403': {'positions': [55], 'tf': 1, 'tf-idf': 1.1429365047502662},\n '1422': {'positions': [154], 'tf': 1, 'tf-idf': 1.1429365047502662},\n '1435': {'positions': [270], 'tf': 1, 'tf-idf': 1.1429365047502662},\n '1603': {'positions': [154], 'tf': 1, 'tf-idf': 1.1429365047502662},\n '1810': {'positions': [16], 'tf': 1, 'tf-idf': 1.1429365047502662},\n '1950': {'positions': [233], 'tf': 1, 'tf-idf': 1.1429365047502662},\n '2355': {'positions': [10, 22], 'tf': 2, 'tf-idf': 1.4869946758194448},\n '2358': {'positions': [7, 67, 71, 154, 158],\n  'tf': 5,\n  'tf-idf': 1.9418148384313538},\n '2360': {'positions': [95], 'tf': 1, 'tf-idf': 1.1429365047502662},\n '2641': {'positions': [106], 'tf': 1, 'tf-idf': 1.1429365047502662},\n '2664': {'positions': [8, 105, 218], 'tf': 3, 'tf-idf': 1.6882558039616187},\n '2698': {'positions': [301], 'tf': 1, 'tf-idf': 1.1429365047502662},\n '2705': {'positions': [122], 'tf': 1, 'tf-idf': 1.1429365047502662},\n '2726': {'positions': [4,\n   9,\n   21,\n   32,\n   50,\n   61,\n   67,\n   87,\n   97,\n   201,\n   212,\n   250,\n   286,\n   332,\n   341,\n   347,\n   445,\n   458],\n  'tf': 18,\n  'tf-idf': 2.5776332742421495},\n '2777': {'positions': [12], 'tf': 1, 'tf-idf': 1.1429365047502662},\n '2789': {'positions': [131], 'tf': 1, 'tf-idf': 1.1429365047502662},\n '2832': {'positions': [48], 'tf': 1, 'tf-idf': 1.1429365047502662},\n '2996': {'positions': [30], 'tf': 1, 'tf-idf': 1.1429365047502662},\n '3017': {'positions': [70, 84], 'tf': 2, 'tf-idf': 1.4869946758194448},\n '3065': {'positions': [124], 'tf': 1, 'tf-idf': 1.1429365047502662},\n '3229': {'positions': [19], 'tf': 1, 'tf-idf': 1.1429365047502662},\n '3354': {'positions': [173], 'tf': 1, 'tf-idf': 1.1429365047502662},\n '3404': {'positions': [197], 'tf': 1, 'tf-idf': 1.1429365047502662},\n '3644': {'positions': [161], 'tf': 1, 'tf-idf': 1.1429365047502662},\n '3655': {'positions': [42, 83, 125], 'tf': 3, 'tf-idf': 1.6882558039616187},\n '3722': {'positions': [45, 123], 'tf': 2, 'tf-idf': 1.4869946758194448},\n '4042': {'positions': [42], 'tf': 1, 'tf-idf': 1.1429365047502662},\n '4521': {'positions': [95], 'tf': 1, 'tf-idf': 1.1429365047502662},\n '5218': {'positions': [12, 107], 'tf': 2, 'tf-idf': 1.4869946758194448},\n '5247': {'positions': [231], 'tf': 1, 'tf-idf': 1.1429365047502662},\n '5630': {'positions': [247], 'tf': 1, 'tf-idf': 1.1429365047502662},\n '6054': {'positions': [8], 'tf': 1, 'tf-idf': 1.1429365047502662},\n '6109': {'positions': [501, 506], 'tf': 2, 'tf-idf': 1.4869946758194448},\n '6436': {'positions': [3705, 3736], 'tf': 2, 'tf-idf': 1.4869946758194448},\n '6684': {'positions': [131, 141, 161], 'tf': 3, 'tf-idf': 1.6882558039616187},\n '6727': {'positions': [9], 'tf': 1, 'tf-idf': 1.1429365047502662},\n '6772': {'positions': [213, 257, 273, 285],\n  'tf': 4,\n  'tf-idf': 1.8310528468886234},\n '6845': {'positions': [189, 204], 'tf': 2, 'tf-idf': 1.4869946758194448},\n '6849': {'positions': [361], 'tf': 1, 'tf-idf': 1.1429365047502662},\n '6852': {'positions': [8, 269], 'tf': 2, 'tf-idf': 1.4869946758194448},\n '6864': {'positions': [363], 'tf': 1, 'tf-idf': 1.1429365047502662},\n '6875': {'positions': [945], 'tf': 1, 'tf-idf': 1.1429365047502662},\n '6880': {'positions': [86], 'tf': 1, 'tf-idf': 1.1429365047502662},\n '6889': {'positions': [5], 'tf': 1, 'tf-idf': 1.1429365047502662},\n '6891': {'positions': [6, 118, 280, 301, 310, 311, 318, 327, 335, 343, 352],\n  'tf': 11,\n  'tf-idf': 2.333182220397503},\n '6908': {'positions': [5, 156], 'tf': 2, 'tf-idf': 1.4869946758194448},\n '6919': {'positions': [12], 'tf': 1, 'tf-idf': 1.1429365047502662},\n '6924': {'positions': [44], 'tf': 1, 'tf-idf': 1.1429365047502662},\n '6929': {'positions': [1066], 'tf': 1, 'tf-idf': 1.1429365047502662},\n '6930': {'positions': [181, 195], 'tf': 2, 'tf-idf': 1.4869946758194448},\n '6945': {'positions': [4, 124], 'tf': 2, 'tf-idf': 1.4869946758194448},\n '6951': {'positions': [109, 114, 144], 'tf': 3, 'tf-idf': 1.6882558039616187},\n '6954': {'positions': [6, 202, 488], 'tf': 3, 'tf-idf': 1.6882558039616187},\n '6955': {'positions': [6], 'tf': 1, 'tf-idf': 1.1429365047502662},\n '6962': {'positions': [169], 'tf': 1, 'tf-idf': 1.1429365047502662},\n '6963': {'positions': [81], 'tf': 1, 'tf-idf': 1.1429365047502662},\n '6965': {'positions': [156], 'tf': 1, 'tf-idf': 1.1429365047502662},\n '6972': {'positions': [266, 284], 'tf': 2, 'tf-idf': 1.4869946758194448},\n '6994': {'positions': [797, 800, 947], 'tf': 3, 'tf-idf': 1.6882558039616187},\n '7012': {'positions': [6], 'tf': 1, 'tf-idf': 1.1429365047502662},\n '7016': {'positions': [357], 'tf': 1, 'tf-idf': 1.1429365047502662},\n '7017': {'positions': [63], 'tf': 1, 'tf-idf': 1.1429365047502662},\n '7020': {'positions': [26, 32], 'tf': 2, 'tf-idf': 1.4869946758194448},\n '7024': {'positions': [588], 'tf': 1, 'tf-idf': 1.1429365047502662},\n '7032': {'positions': [621, 895, 900, 912, 1021],\n  'tf': 5,\n  'tf-idf': 1.9418148384313538},\n '7044': {'positions': [116], 'tf': 1, 'tf-idf': 1.1429365047502662},\n '7059': {'positions': [232], 'tf': 1, 'tf-idf': 1.1429365047502662},\n '7066': {'positions': [10, 29, 77, 157, 217, 385],\n  'tf': 6,\n  'tf-idf': 2.0323139750307972},\n '7090': {'positions': [47], 'tf': 1, 'tf-idf': 1.1429365047502662},\n '7097': {'positions': [804], 'tf': 1, 'tf-idf': 1.1429365047502662},\n '7108': {'positions': [16,\n   89,\n   92,\n   95,\n   99,\n   120,\n   135,\n   139,\n   178,\n   217,\n   421,\n   425,\n   550,\n   624,\n   637,\n   811,\n   945,\n   991,\n   1007,\n   1175,\n   1183],\n  'tf': 21,\n  'tf-idf': 2.6541492039868144},\n '7112': {'positions': [6, 569], 'tf': 2, 'tf-idf': 1.4869946758194448},\n '7113': {'positions': [57, 63, 100], 'tf': 3, 'tf-idf': 1.6882558039616187},\n '7119': {'positions': [155], 'tf': 1, 'tf-idf': 1.1429365047502662},\n '7130': {'positions': [241, 292, 380], 'tf': 3, 'tf-idf': 1.6882558039616187},\n '7132': {'positions': [90], 'tf': 1, 'tf-idf': 1.1429365047502662},\n '7142': {'positions': [29, 151, 281, 299],\n  'tf': 4,\n  'tf-idf': 1.8310528468886234},\n '7157': {'positions': [31, 115, 216], 'tf': 3, 'tf-idf': 1.6882558039616187},\n '7170': {'positions': [721, 882], 'tf': 2, 'tf-idf': 1.4869946758194448},\n '7172': {'positions': [100], 'tf': 1, 'tf-idf': 1.1429365047502662},\n '7179': {'positions': [266, 267, 275, 286, 288],\n  'tf': 5,\n  'tf-idf': 1.9418148384313538},\n '7181': {'positions': [8, 963], 'tf': 2, 'tf-idf': 1.4869946758194448},\n '7183': {'positions': [17, 27, 220, 441, 738],\n  'tf': 5,\n  'tf-idf': 1.9418148384313538},\n '7188': {'positions': [146], 'tf': 1, 'tf-idf': 1.1429365047502662},\n '7192': {'positions': [15], 'tf': 1, 'tf-idf': 1.1429365047502662},\n '7197': {'positions': [8, 18, 218, 439, 736],\n  'tf': 5,\n  'tf-idf': 1.9418148384313538},\n '7209': {'positions': [115], 'tf': 1, 'tf-idf': 1.1429365047502662},\n '7220': {'positions': [1363,\n   1367,\n   1372,\n   1377,\n   1382,\n   1387,\n   1392,\n   1399,\n   1406,\n   1412,\n   1419,\n   1426,\n   1432,\n   1438,\n   1444,\n   1450,\n   1456,\n   1462,\n   1467,\n   1472,\n   1477,\n   1483,\n   1488,\n   1492,\n   1496,\n   1502,\n   1508,\n   1512,\n   1516,\n   1520,\n   1524,\n   1528,\n   1533],\n  'tf': 33,\n  'tf-idf': 2.878501519608855},\n '7230': {'positions': [43, 842, 1036, 1242, 1409, 1411],\n  'tf': 6,\n  'tf-idf': 2.0323139750307972},\n '7234': {'positions': [6, 366], 'tf': 2, 'tf-idf': 1.4869946758194448},\n '7236': {'positions': [7,\n   16,\n   37,\n   96,\n   118,\n   123,\n   139,\n   153,\n   165,\n   179,\n   194,\n   212,\n   224,\n   250,\n   261,\n   289,\n   295,\n   305,\n   337,\n   393,\n   409,\n   507,\n   545,\n   563,\n   624,\n   628,\n   632,\n   636,\n   640,\n   646,\n   650,\n   654,\n   659,\n   663,\n   667,\n   671,\n   675,\n   679],\n  'tf': 38,\n  'tf-idf': 2.9485288469292876},\n '7237': {'positions': [111], 'tf': 1, 'tf-idf': 1.1429365047502662},\n '7257': {'positions': [57], 'tf': 1, 'tf-idf': 1.1429365047502662},\n '7267': {'positions': [7, 79], 'tf': 2, 'tf-idf': 1.4869946758194448},\n '7277': {'positions': [13, 20, 271, 273, 315, 357],\n  'tf': 6,\n  'tf-idf': 2.0323139750307972},\n '7280': {'positions': [248,\n   305,\n   321,\n   329,\n   374,\n   466,\n   470,\n   476,\n   481,\n   490,\n   497,\n   503,\n   512,\n   515,\n   519,\n   525,\n   542,\n   605,\n   615,\n   628,\n   638,\n   692,\n   771,\n   786,\n   836],\n  'tf': 25,\n  'tf-idf': 2.7406931721124415},\n '7283': {'positions': [100,\n   117,\n   152,\n   362,\n   454,\n   457,\n   467,\n   473,\n   482,\n   487,\n   497,\n   505,\n   523,\n   541],\n  'tf': 14,\n  'tf-idf': 2.45288807584464},\n '7284': {'positions': [459], 'tf': 1, 'tf-idf': 1.1429365047502662},\n '7285': {'positions': [138, 282, 382, 386, 403],\n  'tf': 5,\n  'tf-idf': 1.9418148384313538},\n '7290': {'positions': [13, 30, 43, 160, 298],\n  'tf': 5,\n  'tf-idf': 1.9418148384313538},\n '7305': {'positions': [652], 'tf': 1, 'tf-idf': 1.1429365047502662},\n '7306': {'positions': [23, 30, 377], 'tf': 3, 'tf-idf': 1.6882558039616187},\n '7323': {'positions': [14,\n   18,\n   26,\n   37,\n   46,\n   54,\n   58,\n   77,\n   86,\n   89,\n   99,\n   109,\n   120,\n   124,\n   131,\n   143,\n   156,\n   158,\n   166,\n   181,\n   185],\n  'tf': 21,\n  'tf-idf': 2.6541492039868144},\n '7330': {'positions': [6, 329], 'tf': 2, 'tf-idf': 1.4869946758194448},\n '7341': {'positions': [8,\n   24,\n   33,\n   69,\n   125,\n   510,\n   515,\n   530,\n   536,\n   575,\n   582,\n   675,\n   685,\n   739,\n   912,\n   918,\n   920,\n   954,\n   967,\n   972,\n   978,\n   1145,\n   1275,\n   1403,\n   1538,\n   1642],\n  'tf': 26,\n  'tf-idf': 2.7601611973948152},\n '7346': {'positions': [6, 65, 82, 357],\n  'tf': 4,\n  'tf-idf': 1.8310528468886234},\n '7385': {'positions': [30, 36, 58], 'tf': 3, 'tf-idf': 1.6882558039616187},\n '7395': {'positions': [5, 330], 'tf': 2, 'tf-idf': 1.4869946758194448},\n '7400': {'positions': [190], 'tf': 1, 'tf-idf': 1.1429365047502662},\n '7402': {'positions': [340], 'tf': 1, 'tf-idf': 1.1429365047502662},\n '7404': {'positions': [8, 67], 'tf': 2, 'tf-idf': 1.4869946758194448},\n '7416': {'positions': [8, 21, 142, 295, 409],\n  'tf': 5,\n  'tf-idf': 1.9418148384313538},\n '7423': {'positions': [859, 1793, 2088],\n  'tf': 3,\n  'tf-idf': 1.6882558039616187},\n '7425': {'positions': [183], 'tf': 1, 'tf-idf': 1.1429365047502662},\n '7435': {'positions': [7,\n   20,\n   28,\n   35,\n   40,\n   55,\n   121,\n   156,\n   240,\n   266,\n   310,\n   434,\n   476,\n   535,\n   570,\n   636,\n   654,\n   802,\n   926,\n   1026,\n   1091,\n   1262,\n   1284,\n   1325,\n   1340,\n   1421],\n  'tf': 26,\n  'tf-idf': 2.7601611973948152},\n '7436': {'positions': [11, 29], 'tf': 2, 'tf-idf': 1.4869946758194448},\n '7442': {'positions': [15, 33], 'tf': 2, 'tf-idf': 1.4869946758194448},\n '7443': {'positions': [96, 102], 'tf': 2, 'tf-idf': 1.4869946758194448},\n '7467': {'positions': [15, 26, 33, 120],\n  'tf': 4,\n  'tf-idf': 1.8310528468886234},\n '7471': {'positions': [336], 'tf': 1, 'tf-idf': 1.1429365047502662},\n '7479': {'positions': [6, 98, 252], 'tf': 3, 'tf-idf': 1.6882558039616187},\n '7497': {'positions': [39, 46, 65, 76, 82],\n  'tf': 5,\n  'tf-idf': 1.9418148384313538},\n '7507': {'positions': [672], 'tf': 1, 'tf-idf': 1.1429365047502662},\n '7509': {'positions': [143, 273], 'tf': 2, 'tf-idf': 1.4869946758194448},\n '7535': {'positions': [5], 'tf': 1, 'tf-idf': 1.1429365047502662},\n '7560': {'positions': [63], 'tf': 1, 'tf-idf': 1.1429365047502662},\n '7562': {'positions': [13, 18, 179, 252],\n  'tf': 4,\n  'tf-idf': 1.8310528468886234},\n '7564': {'positions': [689], 'tf': 1, 'tf-idf': 1.1429365047502662},\n '7579': {'positions': [384,\n   391,\n   398,\n   403,\n   410,\n   416,\n   423,\n   429,\n   436,\n   442,\n   447,\n   448,\n   453,\n   460,\n   466,\n   475,\n   483,\n   489,\n   495,\n   514,\n   522,\n   528,\n   534,\n   542,\n   553,\n   558,\n   564,\n   571,\n   577,\n   586,\n   592,\n   599,\n   624,\n   632,\n   650,\n   657,\n   673,\n   682,\n   695,\n   701,\n   707,\n   713,\n   719,\n   732,\n   740,\n   746,\n   762,\n   769,\n   779,\n   793,\n   799,\n   805,\n   813,\n   819,\n   825,\n   831,\n   852,\n   859,\n   870,\n   877,\n   892,\n   900,\n   925,\n   950,\n   956,\n   962,\n   970,\n   976,\n   1002,\n   1014,\n   1023,\n   1032,\n   1041,\n   1050,\n   1061,\n   1076,\n   1082,\n   1089,\n   1108,\n   1118,\n   1125,\n   1226,\n   1232,\n   1278,\n   1299,\n   1306,\n   1312,\n   1319],\n  'tf': 88,\n  'tf-idf': 3.365356733605038},\n '7584': {'positions': [147,\n   168,\n   386,\n   488,\n   804,\n   908,\n   1050,\n   2137,\n   2542,\n   2550,\n   2566,\n   2568,\n   2571,\n   2573,\n   2576,\n   2605,\n   2612,\n   2624,\n   2630,\n   2654,\n   2655,\n   2718,\n   2735,\n   2743,\n   2773,\n   2776,\n   2792,\n   2794,\n   2798,\n   2811,\n   2845,\n   2851,\n   2869,\n   2886,\n   2981],\n  'tf': 35,\n  'tf-idf': 2.907708238456549},\n '7594': {'positions': [4, 112, 216, 359],\n  'tf': 4,\n  'tf-idf': 1.8310528468886234},\n '7595': {'positions': [192], 'tf': 1, 'tf-idf': 1.1429365047502662},\n '7598': {'positions': [702, 730, 778], 'tf': 3, 'tf-idf': 1.6882558039616187},\n '7605': {'positions': [11], 'tf': 1, 'tf-idf': 1.1429365047502662},\n '7624': {'positions': [19], 'tf': 1, 'tf-idf': 1.1429365047502662},\n '7637': {'positions': [5], 'tf': 1, 'tf-idf': 1.1429365047502662},\n '7640': {'positions': [255, 263], 'tf': 2, 'tf-idf': 1.4869946758194448},\n '7642': {'positions': [13, 27, 46, 123, 185, 326, 440, 1758],\n  'tf': 8,\n  'tf-idf': 2.1751110179578017},\n '7652': {'positions': [31], 'tf': 1, 'tf-idf': 1.1429365047502662},\n '7654': {'positions': [22, 555], 'tf': 2, 'tf-idf': 1.4869946758194448},\n '7662': {'positions': [11, 18, 26, 164],\n  'tf': 4,\n  'tf-idf': 1.8310528468886234},\n '7666': {'positions': [169, 359], 'tf': 2, 'tf-idf': 1.4869946758194448},\n '7691': {'positions': [361], 'tf': 1, 'tf-idf': 1.1429365047502662},\n '7694': {'positions': [376, 458, 653, 672, 687, 693, 704, 720, 762, 774],\n  'tf': 10,\n  'tf-idf': 2.2858730095005324},\n '7704': {'positions': [52], 'tf': 1, 'tf-idf': 1.1429365047502662},\n '7709': {'positions': [305], 'tf': 1, 'tf-idf': 1.1429365047502662},\n '7713': {'positions': [13, 94, 115, 131, 138, 163, 198],\n  'tf': 7,\n  'tf-idf': 2.1088299047754617},\n '7714': {'positions': [220], 'tf': 1, 'tf-idf': 1.1429365047502662},\n '7716': {'positions': [13, 26, 73], 'tf': 3, 'tf-idf': 1.6882558039616187},\n '7731': {'positions': [45, 97, 227, 342, 447],\n  'tf': 5,\n  'tf-idf': 1.9418148384313538},\n '7733': {'positions': [18], 'tf': 1, 'tf-idf': 1.1429365047502662},\n '7734': {'positions': [5, 88, 244, 432],\n  'tf': 4,\n  'tf-idf': 1.8310528468886234},\n '7736': {'positions': [12, 72], 'tf': 2, 'tf-idf': 1.4869946758194448},\n '7737': {'positions': [5, 175], 'tf': 2, 'tf-idf': 1.4869946758194448},\n '7739': {'positions': [971], 'tf': 1, 'tf-idf': 1.1429365047502662},\n '7741': {'positions': [11, 474], 'tf': 2, 'tf-idf': 1.4869946758194448},\n '7748': {'positions': [8], 'tf': 1, 'tf-idf': 1.1429365047502662},\n '7752': {'positions': [9, 89, 115], 'tf': 3, 'tf-idf': 1.6882558039616187},\n '7761': {'positions': [752], 'tf': 1, 'tf-idf': 1.1429365047502662},\n '7779': {'positions': [175], 'tf': 1, 'tf-idf': 1.1429365047502662},\n '7792': {'positions': [66, 68, 94, 98, 105],\n  'tf': 5,\n  'tf-idf': 1.9418148384313538},\n '7794': {'positions': [29,\n   40,\n   423,\n   635,\n   765,\n   1218,\n   1294,\n   1318,\n   1351,\n   1451,\n   1486,\n   1587,\n   1655,\n   1672,\n   1685,\n   2031,\n   2237,\n   2275,\n   2481,\n   2635,\n   2650,\n   2688,\n   2818,\n   2834,\n   2846,\n   2856,\n   2882,\n   2898,\n   3218,\n   3285,\n   3408,\n   3505],\n  'tf': 32,\n  'tf-idf': 2.863227360096159},\n '7795': {'positions': [5, 132, 238, 360, 534],\n  'tf': 5,\n  'tf-idf': 1.9418148384313538},\n '7796': {'positions': [166, 351, 688, 799, 904],\n  'tf': 5,\n  'tf-idf': 1.9418148384313538},\n '7813': {'positions': [532, 543, 554], 'tf': 3, 'tf-idf': 1.6882558039616187},\n '7829': {'positions': [118, 545], 'tf': 2, 'tf-idf': 1.4869946758194448},\n '7832': {'positions': [143, 173], 'tf': 2, 'tf-idf': 1.4869946758194448},\n '7862': {'positions': [6, 548], 'tf': 2, 'tf-idf': 1.4869946758194448},\n '7870': {'positions': [840, 853, 861], 'tf': 3, 'tf-idf': 1.6882558039616187},\n '7873': {'positions': [8, 14, 31, 38, 107, 247, 501, 616],\n  'tf': 8,\n  'tf-idf': 2.1751110179578017},\n '7882': {'positions': [120], 'tf': 1, 'tf-idf': 1.1429365047502662},\n '7895': {'positions': [8, 290], 'tf': 2, 'tf-idf': 1.4869946758194448},\n '7896': {'positions': [12, 619, 621, 644, 649],\n  'tf': 5,\n  'tf-idf': 1.9418148384313538},\n '7899': {'positions': [298], 'tf': 1, 'tf-idf': 1.1429365047502662},\n '7902': {'positions': [26], 'tf': 1, 'tf-idf': 1.1429365047502662},\n '7903': {'positions': [55, 236], 'tf': 2, 'tf-idf': 1.4869946758194448},\n '7904': {'positions': [4], 'tf': 1, 'tf-idf': 1.1429365047502662},\n '7905': {'positions': [8, 53, 100, 187, 232, 331],\n  'tf': 6,\n  'tf-idf': 2.0323139750307972},\n '7908': {'positions': [16, 29, 129, 148, 194, 226, 471, 559, 633, 764, 769],\n  'tf': 11,\n  'tf-idf': 2.333182220397503},\n '7919': {'positions': [315], 'tf': 1, 'tf-idf': 1.1429365047502662},\n '7922': {'positions': [156], 'tf': 1, 'tf-idf': 1.1429365047502662},\n '7938': {'positions': [43], 'tf': 1, 'tf-idf': 1.1429365047502662},\n '7945': {'positions': [46], 'tf': 1, 'tf-idf': 1.1429365047502662},\n '7950': {'positions': [9], 'tf': 1, 'tf-idf': 1.1429365047502662},\n '7954': {'positions': [9, 26, 39, 176, 253, 521, 754, 1290, 1421, 1683],\n  'tf': 10,\n  'tf-idf': 2.2858730095005324},\n '7971': {'positions': [87, 90, 94, 97, 102],\n  'tf': 5,\n  'tf-idf': 1.9418148384313538},\n '7972': {'positions': [205], 'tf': 1, 'tf-idf': 1.1429365047502662},\n '7976': {'positions': [13,\n   23,\n   28,\n   49,\n   67,\n   83,\n   92,\n   104,\n   121,\n   133,\n   157,\n   181,\n   195,\n   211,\n   235,\n   332,\n   372,\n   378],\n  'tf': 18,\n  'tf-idf': 2.5776332742421495},\n '7979': {'positions': [439], 'tf': 1, 'tf-idf': 1.1429365047502662},\n '7986': {'positions': [45], 'tf': 1, 'tf-idf': 1.1429365047502662},\n '7993': {'positions': [901], 'tf': 1, 'tf-idf': 1.1429365047502662},\n '8001': {'positions': [259], 'tf': 1, 'tf-idf': 1.1429365047502662},\n '8002': {'positions': [463], 'tf': 1, 'tf-idf': 1.1429365047502662},\n '8006': {'positions': [17, 109, 375], 'tf': 3, 'tf-idf': 1.6882558039616187},\n '8012': {'positions': [217], 'tf': 1, 'tf-idf': 1.1429365047502662},\n '8014': {'positions': [8], 'tf': 1, 'tf-idf': 1.1429365047502662},\n '8027': {'positions': [3163], 'tf': 1, 'tf-idf': 1.1429365047502662},\n '8028': {'positions': [139], 'tf': 1, 'tf-idf': 1.1429365047502662},\n '8030': {'positions': [278], 'tf': 1, 'tf-idf': 1.1429365047502662},\n '8034': {'positions': [618], 'tf': 1, 'tf-idf': 1.1429365047502662},\n '8045': {'positions': [9, 71], 'tf': 2, 'tf-idf': 1.4869946758194448},\n '8050': {'positions': [9], 'tf': 1, 'tf-idf': 1.1429365047502662},\n '8060': {'positions': [236, 278, 292], 'tf': 3, 'tf-idf': 1.6882558039616187},\n '8061': {'positions': [45], 'tf': 1, 'tf-idf': 1.1429365047502662},\n '8062': {'positions': [4, 97, 222], 'tf': 3, 'tf-idf': 1.6882558039616187},\n '8065': {'positions': [53], 'tf': 1, 'tf-idf': 1.1429365047502662},\n '8075': {'positions': [74], 'tf': 1, 'tf-idf': 1.1429365047502662},\n '8076': {'positions': [13,\n   27,\n   35,\n   70,\n   102,\n   115,\n   148,\n   186,\n   229,\n   264,\n   367,\n   546,\n   694,\n   952,\n   1132],\n  'tf': 15,\n  'tf-idf': 2.4871341376427063},\n '8077': {'positions': [263, 268, 272], 'tf': 3, 'tf-idf': 1.6882558039616187},\n '8083': {'positions': [15, 118, 297, 445, 703, 883],\n  'tf': 6,\n  'tf-idf': 2.0323139750307972},\n '8084': {'positions': [13, 52, 85, 94, 122],\n  'tf': 5,\n  'tf-idf': 1.9418148384313538},\n '8095': {'positions': [115, 179, 192], 'tf': 3, 'tf-idf': 1.6882558039616187},\n '8103': {'positions': [12, 18, 50, 77, 81],\n  'tf': 5,\n  'tf-idf': 1.9418148384313538},\n '8106': {'positions': [11, 205, 354, 367],\n  'tf': 4,\n  'tf-idf': 1.8310528468886234},\n '8107': {'positions': [1862, 2040, 2055, 2074, 2077],\n  'tf': 5,\n  'tf-idf': 1.9418148384313538},\n '8118': {'positions': [8, 22, 76, 99, 189],\n  'tf': 5,\n  'tf-idf': 1.9418148384313538},\n '8121': {'positions': [65], 'tf': 1, 'tf-idf': 1.1429365047502662},\n '8125': {'positions': [19, 31, 57, 120],\n  'tf': 4,\n  'tf-idf': 1.8310528468886234},\n '8134': {'positions': [135, 146, 158], 'tf': 3, 'tf-idf': 1.6882558039616187},\n '8146': {'positions': [1165], 'tf': 1, 'tf-idf': 1.1429365047502662},\n '8148': {'positions': [159], 'tf': 1, 'tf-idf': 1.1429365047502662},\n '8152': {'positions': [356], 'tf': 1, 'tf-idf': 1.1429365047502662},\n '8159': {'positions': [320, 321, 329, 331],\n  'tf': 4,\n  'tf-idf': 1.8310528468886234},\n '8161': {'positions': [56, 57, 65, 79, 81],\n  'tf': 5,\n  'tf-idf': 1.9418148384313538},\n '8168': {'positions': [7,\n   385,\n   391,\n   397,\n   403,\n   409,\n   415,\n   421,\n   427,\n   433,\n   440,\n   446,\n   451,\n   457,\n   462,\n   467,\n   473,\n   480,\n   485,\n   491,\n   497,\n   503,\n   509,\n   515,\n   521,\n   527,\n   533,\n   539,\n   545,\n   550,\n   556,\n   561,\n   566,\n   571,\n   576],\n  'tf': 35,\n  'tf-idf': 2.907708238456549},\n '8179': {'positions': [586], 'tf': 1, 'tf-idf': 1.1429365047502662},\n '8183': {'positions': [5, 102], 'tf': 2, 'tf-idf': 1.4869946758194448},\n '8204': {'positions': [5, 137], 'tf': 2, 'tf-idf': 1.4869946758194448},\n '8206': {'positions': [51, 62, 105], 'tf': 3, 'tf-idf': 1.6882558039616187},\n '8208': {'positions': [405], 'tf': 1, 'tf-idf': 1.1429365047502662},\n '8247': {'positions': [4, 192], 'tf': 2, 'tf-idf': 1.4869946758194448},\n '8250': {'positions': [3, 25, 143, 282, 332, 339],\n  'tf': 6,\n  'tf-idf': 2.0323139750307972},\n '8254': {'positions': [262], 'tf': 1, 'tf-idf': 1.1429365047502662},\n '8258': {'positions': [51, 197, 203], 'tf': 3, 'tf-idf': 1.6882558039616187},\n '8259': {'positions': [197], 'tf': 1, 'tf-idf': 1.1429365047502662},\n '8261': {'positions': [10,\n   54,\n   61,\n   69,\n   73,\n   77,\n   86,\n   98,\n   114,\n   154,\n   177,\n   186,\n   192,\n   232,\n   253,\n   263,\n   271,\n   281,\n   289,\n   302,\n   311,\n   319,\n   323,\n   328,\n   340,\n   349,\n   379,\n   397,\n   422,\n   462,\n   478,\n   517,\n   547,\n   559,\n   603,\n   607,\n   691,\n   772,\n   776,\n   780,\n   800],\n  'tf': 41,\n  'tf-idf': 2.9862460488671747},\n '8273': {'positions': [8], 'tf': 1, 'tf-idf': 1.1429365047502662},\n '8275': {'positions': [978], 'tf': 1, 'tf-idf': 1.1429365047502662},\n '8276': {'positions': [1826,\n   1831,\n   1834,\n   1839,\n   1845,\n   1866,\n   1921,\n   1980,\n   2041,\n   2102,\n   2106,\n   2117,\n   2202,\n   2211,\n   2248,\n   2254,\n   2264,\n   2277],\n  'tf': 18,\n  'tf-idf': 2.5776332742421495},\n '8278': {'positions': [7, 80, 219], 'tf': 3, 'tf-idf': 1.6882558039616187},\n '8294': {'positions': [5], 'tf': 1, 'tf-idf': 1.1429365047502662},\n '8302': {'positions': [8, 55, 87], 'tf': 3, 'tf-idf': 1.6882558039616187},\n '8303': {'positions': [23, 33, 55, 65, 113, 257, 259, 278, 304, 348],\n  'tf': 10,\n  'tf-idf': 2.2858730095005324},\n '8307': {'positions': [4], 'tf': 1, 'tf-idf': 1.1429365047502662},\n '8308': {'positions': [14,\n   51,\n   59,\n   70,\n   91,\n   111,\n   120,\n   130,\n   170,\n   229,\n   239,\n   243,\n   294,\n   297,\n   324,\n   359,\n   378,\n   410,\n   424,\n   437,\n   449,\n   466,\n   504,\n   541,\n   543,\n   551,\n   592,\n   605,\n   631,\n   638,\n   661,\n   680,\n   687,\n   708,\n   756,\n   760,\n   770,\n   785,\n   792,\n   809,\n   842,\n   844,\n   860,\n   885,\n   906,\n   931,\n   942,\n   946,\n   953],\n  'tf': 49,\n  'tf-idf': 3.0747233048006573},\n '8324': {'positions': [43], 'tf': 1, 'tf-idf': 1.1429365047502662},\n '8325': {'positions': [279, 410], 'tf': 2, 'tf-idf': 1.4869946758194448},\n '8357': {'positions': [8, 76, 239, 346, 601],\n  'tf': 5,\n  'tf-idf': 1.9418148384313538},\n '8361': {'positions': [5, 284, 415], 'tf': 3, 'tf-idf': 1.6882558039616187},\n '8369': {'positions': [1090, 1108, 1110],\n  'tf': 3,\n  'tf-idf': 1.6882558039616187},\n '8370': {'positions': [43], 'tf': 1, 'tf-idf': 1.1429365047502662},\n '8379': {'positions': [30], 'tf': 1, 'tf-idf': 1.1429365047502662},\n '8396': {'positions': [129], 'tf': 1, 'tf-idf': 1.1429365047502662},\n '8398': {'positions': [3, 61], 'tf': 2, 'tf-idf': 1.4869946758194448},\n '8413': {'positions': [538, 543], 'tf': 2, 'tf-idf': 1.4869946758194448},\n '8430': {'positions': [3, 134, 227], 'tf': 3, 'tf-idf': 1.6882558039616187},\n '8433': {'positions': [6, 187, 329], 'tf': 3, 'tf-idf': 1.6882558039616187},\n '8443': {'positions': [8, 126], 'tf': 2, 'tf-idf': 1.4869946758194448},\n '8449': {'positions': [319, 347], 'tf': 2, 'tf-idf': 1.4869946758194448},\n '8461': {'positions': [16, 21], 'tf': 2, 'tf-idf': 1.4869946758194448},\n '8463': {'positions': [220], 'tf': 1, 'tf-idf': 1.1429365047502662},\n '8468': {'positions': [18, 33, 92, 98],\n  'tf': 4,\n  'tf-idf': 1.8310528468886234},\n '8483': {'positions': [15,\n   313,\n   336,\n   450,\n   491,\n   555,\n   567,\n   575,\n   592,\n   597,\n   620,\n   678,\n   728,\n   745],\n  'tf': 14,\n  'tf-idf': 2.45288807584464},\n '8534': {'positions': [83, 111, 175, 181, 189, 277, 280, 494, 900],\n  'tf': 9,\n  'tf-idf': 2.233575103172971},\n '8537': {'positions': [8,\n   27,\n   52,\n   57,\n   77,\n   136,\n   143,\n   145,\n   149,\n   164,\n   190,\n   197,\n   218,\n   223],\n  'tf': 14,\n  'tf-idf': 2.45288807584464},\n '8540': {'positions': [18], 'tf': 1, 'tf-idf': 1.1429365047502662},\n '8544': {'positions': [5,\n   31,\n   35,\n   40,\n   53,\n   58,\n   70,\n   80,\n   84,\n   91,\n   99,\n   108,\n   136,\n   143,\n   147,\n   155,\n   170,\n   188,\n   206,\n   213,\n   219,\n   240,\n   246,\n   252,\n   256,\n   304,\n   327,\n   365,\n   395,\n   399,\n   408,\n   459,\n   472,\n   503,\n   517,\n   524,\n   543,\n   563,\n   570,\n   641,\n   677,\n   729,\n   758,\n   787,\n   807,\n   821,\n   839,\n   845,\n   850,\n   861,\n   874,\n   879,\n   888,\n   907,\n   915,\n   942,\n   961,\n   991,\n   998,\n   1012,\n   1028,\n   1047,\n   1057],\n  'tf': 63,\n  'tf-idf': 3.1994685031981662},\n '8555': {'positions': [79,\n   95,\n   105,\n   124,\n   149,\n   163,\n   191,\n   193,\n   209,\n   243,\n   254,\n   258,\n   266],\n  'tf': 13,\n  'tf-idf': 2.416103026325637},\n '8576': {'positions': [344, 351], 'tf': 2, 'tf-idf': 1.4869946758194448},\n '8577': {'positions': [1557, 1573, 1578, 1581, 1585, 1963, 1987, 2005],\n  'tf': 8,\n  'tf-idf': 2.1751110179578017},\n '8579': {'positions': [45, 52], 'tf': 2, 'tf-idf': 1.4869946758194448},\n '8583': {'positions': [7,\n   18,\n   57,\n   69,\n   85,\n   102,\n   105,\n   109,\n   473,\n   731,\n   791,\n   801,\n   822,\n   868],\n  'tf': 14,\n  'tf-idf': 2.45288807584464},\n '8585': {'positions': [415], 'tf': 1, 'tf-idf': 1.1429365047502662},\n '8598': {'positions': [157], 'tf': 1, 'tf-idf': 1.1429365047502662},\n '8629': {'positions': [337], 'tf': 1, 'tf-idf': 1.1429365047502662},\n '8630': {'positions': [15], 'tf': 1, 'tf-idf': 1.1429365047502662},\n '8645': {'positions': [14, 323], 'tf': 2, 'tf-idf': 1.4869946758194448},\n '8657': {'positions': [140, 142], 'tf': 2, 'tf-idf': 1.4869946758194448},\n '8658': {'positions': [34, 46, 50, 113, 207, 215, 245, 283],\n  'tf': 8,\n  'tf-idf': 2.1751110179578017},\n '8664': {'positions': [233], 'tf': 1, 'tf-idf': 1.1429365047502662},\n '8666': {'positions': [104], 'tf': 1, 'tf-idf': 1.1429365047502662},\n '8688': {'positions': [628], 'tf': 1, 'tf-idf': 1.1429365047502662},\n '8695': {'positions': [303, 327], 'tf': 2, 'tf-idf': 1.4869946758194448},\n '8700': {'positions': [18, 30, 34, 52, 71, 95, 149, 289, 330, 369, 395],\n  'tf': 11,\n  'tf-idf': 2.333182220397503},\n '8704': {'positions': [193], 'tf': 1, 'tf-idf': 1.1429365047502662},\n '8729': {'positions': [192,\n   212,\n   244,\n   278,\n   286,\n   303,\n   312,\n   347,\n   388,\n   401,\n   451,\n   495,\n   531,\n   566,\n   574],\n  'tf': 15,\n  'tf-idf': 2.4871341376427063},\n '8739': {'positions': [2934], 'tf': 1, 'tf-idf': 1.1429365047502662},\n '8758': {'positions': [120,\n   144,\n   304,\n   314,\n   326,\n   328,\n   363,\n   366,\n   370,\n   396,\n   411,\n   417,\n   465,\n   559,\n   589],\n  'tf': 15,\n  'tf-idf': 2.4871341376427063},\n '8759': {'positions': [10, 28, 37, 219, 314, 437, 525, 592],\n  'tf': 8,\n  'tf-idf': 2.1751110179578017},\n '8773': {'positions': [13, 45], 'tf': 2, 'tf-idf': 1.4869946758194448},\n '8778': {'positions': [27, 123, 132, 182, 217, 240, 312, 383],\n  'tf': 8,\n  'tf-idf': 2.1751110179578017},\n '8780': {'positions': [24,\n   128,\n   135,\n   209,\n   238,\n   412,\n   470,\n   476,\n   482,\n   487,\n   491,\n   496,\n   501,\n   505,\n   510,\n   515,\n   520,\n   526,\n   532,\n   538,\n   544,\n   550,\n   556,\n   562,\n   568,\n   574,\n   580,\n   586,\n   592,\n   598,\n   604,\n   610,\n   617,\n   623,\n   629,\n   635,\n   641,\n   647,\n   654,\n   660,\n   666,\n   673,\n   679,\n   685,\n   692,\n   698,\n   704,\n   710,\n   716,\n   722,\n   728,\n   735,\n   742,\n   748,\n   754,\n   760,\n   767,\n   773,\n   779,\n   785,\n   791,\n   797,\n   803,\n   809,\n   815,\n   821,\n   827,\n   834,\n   841,\n   847,\n   861,\n   867,\n   875,\n   895,\n   901,\n   907,\n   923,\n   933,\n   943,\n   956,\n   962,\n   968,\n   979,\n   1030,\n   1036,\n   1041,\n   1054,\n   1120,\n   1138,\n   1148,\n   1153,\n   1163],\n  'tf': 92,\n  'tf-idf': 3.387421300207715},\n '8789': {'positions': [79, 293], 'tf': 2, 'tf-idf': 1.4869946758194448},\n '8800': {'positions': [135], 'tf': 1, 'tf-idf': 1.1429365047502662},\n '8804': {'positions': [294], 'tf': 1, 'tf-idf': 1.1429365047502662},\n '8806': {'positions': [45], 'tf': 1, 'tf-idf': 1.1429365047502662},\n '8827': {'positions': [300], 'tf': 1, 'tf-idf': 1.1429365047502662},\n '8831': {'positions': [51], 'tf': 1, 'tf-idf': 1.1429365047502662},\n '8836': {'positions': [65, 70, 272, 302, 312, 333, 340, 365, 384, 891],\n  'tf': 10,\n  'tf-idf': 2.2858730095005324},\n '8837': {'positions': [128], 'tf': 1, 'tf-idf': 1.1429365047502662},\n '8848': {'positions': [88], 'tf': 1, 'tf-idf': 1.1429365047502662},\n '8861': {'positions': [471], 'tf': 1, 'tf-idf': 1.1429365047502662},\n '8865': {'positions': [61], 'tf': 1, 'tf-idf': 1.1429365047502662},\n '8870': {'positions': [34, 75, 105, 110],\n  'tf': 4,\n  'tf-idf': 1.8310528468886234},\n '8871': {'positions': [552, 608, 628, 642, 669, 671, 710],\n  'tf': 7,\n  'tf-idf': 2.1088299047754617},\n '8872': {'positions': [44, 183], 'tf': 2, 'tf-idf': 1.4869946758194448},\n '8876': {'positions': [342], 'tf': 1, 'tf-idf': 1.1429365047502662},\n '8878': {'positions': [16], 'tf': 1, 'tf-idf': 1.1429365047502662},\n '8879': {'positions': [16], 'tf': 1, 'tf-idf': 1.1429365047502662},\n '8880': {'positions': [16, 76], 'tf': 2, 'tf-idf': 1.4869946758194448},\n '8883': {'positions': [188], 'tf': 1, 'tf-idf': 1.1429365047502662},\n '8886': {'positions': [7,\n   12,\n   31,\n   170,\n   206,\n   215,\n   271,\n   294,\n   332,\n   336,\n   362,\n   393,\n   398,\n   427,\n   503,\n   509,\n   524,\n   534,\n   539,\n   558,\n   620,\n   630,\n   648,\n   676,\n   685,\n   717,\n   767,\n   789],\n  'tf': 28,\n  'tf-idf': 2.796946246913819},\n '8891': {'positions': [11, 18, 116, 134, 176, 214, 222, 226],\n  'tf': 8,\n  'tf-idf': 2.1751110179578017},\n '8904': {'positions': [119], 'tf': 1, 'tf-idf': 1.1429365047502662},\n '8927': {'positions': [7, 49, 411], 'tf': 3, 'tf-idf': 1.6882558039616187},\n '8932': {'positions': [10, 27, 45, 75, 89, 127, 160],\n  'tf': 7,\n  'tf-idf': 2.1088299047754617},\n '8955': {'positions': [12,\n   54,\n   73,\n   156,\n   610,\n   646,\n   724,\n   1185,\n   1197,\n   1275,\n   1279,\n   1339,\n   1351,\n   1359,\n   1372,\n   1411,\n   1594,\n   1604,\n   1705],\n  'tf': 19,\n  'tf-idf': 2.6044706758601093},\n '8956': {'positions': [1120, 1175, 1182],\n  'tf': 3,\n  'tf-idf': 1.6882558039616187},\n '8961': {'positions': [1079], 'tf': 1, 'tf-idf': 1.1429365047502662},\n '8966': {'positions': [93, 151, 306], 'tf': 3, 'tf-idf': 1.6882558039616187},\n '8967': {'positions': [18,\n   34,\n   137,\n   159,\n   339,\n   400,\n   497,\n   512,\n   527,\n   548,\n   577,\n   584,\n   629,\n   847,\n   943,\n   1016],\n  'tf': 16,\n  'tf-idf': 2.5191691890269805},\n '8968': {'positions': [174, 197], 'tf': 2, 'tf-idf': 1.4869946758194448},\n '8969': {'positions': [19, 178], 'tf': 2, 'tf-idf': 1.4869946758194448},\n '8973': {'positions': [1887], 'tf': 1, 'tf-idf': 1.1429365047502662},\n '8985': {'positions': [26, 277], 'tf': 2, 'tf-idf': 1.4869946758194448},\n '8986': {'positions': [106, 144, 310], 'tf': 3, 'tf-idf': 1.6882558039616187},\n '8993': {'positions': [10, 27, 35, 56, 65],\n  'tf': 5,\n  'tf-idf': 1.9418148384313538},\n '8994': {'positions': [345], 'tf': 1, 'tf-idf': 1.1429365047502662},\n '9001': {'positions': [11], 'tf': 1, 'tf-idf': 1.1429365047502662},\n '9007': {'positions': [41, 717, 757], 'tf': 3, 'tf-idf': 1.6882558039616187},\n '9010': {'positions': [9, 279, 288, 298, 319, 324],\n  'tf': 6,\n  'tf-idf': 2.0323139750307972},\n '9011': {'positions': [119, 127], 'tf': 2, 'tf-idf': 1.4869946758194448},\n '9012': {'positions': [72], 'tf': 1, 'tf-idf': 1.1429365047502662},\n '9021': {'positions': [277], 'tf': 1, 'tf-idf': 1.1429365047502662},\n '9022': {'positions': [210], 'tf': 1, 'tf-idf': 1.1429365047502662},\n '9041': {'positions': [299], 'tf': 1, 'tf-idf': 1.1429365047502662},\n '9045': {'positions': [143], 'tf': 1, 'tf-idf': 1.1429365047502662},\n '9059': {'positions': [26, 49, 60, 93, 113, 168, 193, 246, 258, 280],\n  'tf': 10,\n  'tf-idf': 2.2858730095005324},\n '9061': {'positions': [117], 'tf': 1, 'tf-idf': 1.1429365047502662},\n '9073': {'positions': [66, 223, 272], 'tf': 3, 'tf-idf': 1.6882558039616187},\n '9075': {'positions': [11, 34, 77, 102],\n  'tf': 4,\n  'tf-idf': 1.8310528468886234},\n '9077': {'positions': [56], 'tf': 1, 'tf-idf': 1.1429365047502662},\n '9079': {'positions': [16], 'tf': 1, 'tf-idf': 1.1429365047502662},\n '9088': {'positions': [21], 'tf': 1, 'tf-idf': 1.1429365047502662},\n '9092': {'positions': [255], 'tf': 1, 'tf-idf': 1.1429365047502662},\n '9096': {'positions': [17, 207, 367, 871, 1197, 1266, 2168],\n  'tf': 7,\n  'tf-idf': 2.1088299047754617},\n '9121': {'positions': [11, 159], 'tf': 2, 'tf-idf': 1.4869946758194448},\n '9122': {'positions': [17], 'tf': 1, 'tf-idf': 1.1429365047502662},\n '9124': {'positions': [5, 91, 217], 'tf': 3, 'tf-idf': 1.6882558039616187},\n '9130': {'positions': [2179], 'tf': 1, 'tf-idf': 1.1429365047502662},\n '9139': {'positions': [42], 'tf': 1, 'tf-idf': 1.1429365047502662},\n '9148': {'positions': [5, 98], 'tf': 2, 'tf-idf': 1.4869946758194448},\n '9149': {'positions': [83], 'tf': 1, 'tf-idf': 1.1429365047502662},\n '9150': {'positions': [255], 'tf': 1, 'tf-idf': 1.1429365047502662},\n '9151': {'positions': [186], 'tf': 1, 'tf-idf': 1.1429365047502662},\n '9153': {'positions': [446, 451], 'tf': 2, 'tf-idf': 1.4869946758194448},\n '9160': {'positions': [19], 'tf': 1, 'tf-idf': 1.1429365047502662},\n '9161': {'positions': [18], 'tf': 1, 'tf-idf': 1.1429365047502662},\n '9179': {'positions': [21], 'tf': 1, 'tf-idf': 1.1429365047502662},\n '9180': {'positions': [34, 43, 289, 613, 1014, 1833, 1954, 2141, 2261, 2367],\n  'tf': 10,\n  'tf-idf': 2.2858730095005324},\n '9182': {'positions': [204, 341, 347], 'tf': 3, 'tf-idf': 1.6882558039616187},\n '9186': {'positions': [27, 38], 'tf': 2, 'tf-idf': 1.4869946758194448},\n '9192': {'positions': [30, 56], 'tf': 2, 'tf-idf': 1.4869946758194448},\n '9198': {'positions': [27], 'tf': 1, 'tf-idf': 1.1429365047502662},\n '9206': {'positions': [86], 'tf': 1, 'tf-idf': 1.1429365047502662},\n '9212': {'positions': [56,\n   172,\n   229,\n   254,\n   315,\n   321,\n   322,\n   347,\n   368,\n   379,\n   450,\n   495],\n  'tf': 12,\n  'tf-idf': 2.376372146099976},\n '9218': {'positions': [6, 29, 38, 57, 651],\n  'tf': 5,\n  'tf-idf': 1.9418148384313538},\n '9222': {'positions': [5], 'tf': 1, 'tf-idf': 1.1429365047502662},\n '9225': {'positions': [277], 'tf': 1, 'tf-idf': 1.1429365047502662},\n '9238': {'positions': [24, 38, 51], 'tf': 3, 'tf-idf': 1.6882558039616187},\n '9247': {'positions': [194], 'tf': 1, 'tf-idf': 1.1429365047502662},\n '9248': {'positions': [409], 'tf': 1, 'tf-idf': 1.1429365047502662},\n '9249': {'positions': [14], 'tf': 1, 'tf-idf': 1.1429365047502662},\n '9254': {'positions': [676], 'tf': 1, 'tf-idf': 1.1429365047502662},\n '9257': {'positions': [9, 103], 'tf': 2, 'tf-idf': 1.4869946758194448},\n '9258': {'positions': [72], 'tf': 1, 'tf-idf': 1.1429365047502662},\n '9261': {'positions': [9, 34, 42, 81, 91, 209],\n  'tf': 6,\n  'tf-idf': 2.0323139750307972},\n '9266': {'positions': [2672, 4183, 7296],\n  'tf': 3,\n  'tf-idf': 1.6882558039616187},\n '9267': {'positions': [6, 240], 'tf': 2, 'tf-idf': 1.4869946758194448},\n '9282': {'positions': [7], 'tf': 1, 'tf-idf': 1.1429365047502662},\n '9284': {'positions': [6, 72, 92, 158, 180, 185, 248],\n  'tf': 7,\n  'tf-idf': 2.1088299047754617},\n '9286': {'positions': [444,\n   446,\n   706,\n   795,\n   804,\n   847,\n   855,\n   869,\n   875,\n   1021,\n   1037,\n   1044,\n   1049,\n   1054,\n   1059,\n   1082,\n   1087,\n   1128,\n   1261,\n   1281,\n   1290,\n   1298,\n   1309,\n   1317],\n  'tf': 24,\n  'tf-idf': 2.720430317169154},\n '9289': {'positions': [17], 'tf': 1, 'tf-idf': 1.1429365047502662},\n '9291': {'positions': [6], 'tf': 1, 'tf-idf': 1.1429365047502662},\n '9293': {'positions': [6, 443], 'tf': 2, 'tf-idf': 1.4869946758194448},\n '9294': {'positions': [137], 'tf': 1, 'tf-idf': 1.1429365047502662},\n '9296': {'positions': [14, 22], 'tf': 2, 'tf-idf': 1.4869946758194448},\n '9300': {'positions': [1026, 1058], 'tf': 2, 'tf-idf': 1.4869946758194448},\n '9306': {'positions': [72], 'tf': 1, 'tf-idf': 1.1429365047502662},\n '9309': {'positions': [1438, 1791, 1812, 1818, 1826],\n  'tf': 5,\n  'tf-idf': 1.9418148384313538},\n '9312': {'positions': [11, 18, 60], 'tf': 3, 'tf-idf': 1.6882558039616187},\n '9313': {'positions': [17, 19], 'tf': 2, 'tf-idf': 1.4869946758194448},\n '9325': {'positions': [20, 22], 'tf': 2, 'tf-idf': 1.4869946758194448},\n '9329': {'positions': [542,\n   565,\n   567,\n   585,\n   627,\n   671,\n   727,\n   804,\n   897,\n   1131,\n   1153,\n   1165,\n   1184,\n   1285,\n   1311],\n  'tf': 15,\n  'tf-idf': 2.4871341376427063},\n '9334': {'positions': [64], 'tf': 1, 'tf-idf': 1.1429365047502662},\n '9336': {'positions': [607], 'tf': 1, 'tf-idf': 1.1429365047502662},\n '9337': {'positions': [56], 'tf': 1, 'tf-idf': 1.1429365047502662},\n '9346': {'positions': [267,\n   357,\n   368,\n   379,\n   507,\n   562,\n   889,\n   897,\n   919,\n   962,\n   1050,\n   1167,\n   1177,\n   2591,\n   2634,\n   2646],\n  'tf': 16,\n  'tf-idf': 2.5191691890269805},\n '9362': {'positions': [7, 116, 121], 'tf': 3, 'tf-idf': 1.6882558039616187},\n '9387': {'positions': [7,\n   748,\n   764,\n   790,\n   794,\n   797,\n   803,\n   807,\n   811,\n   815,\n   819,\n   823,\n   827,\n   831,\n   835,\n   839,\n   843,\n   847,\n   851,\n   855,\n   859,\n   863,\n   867,\n   871,\n   878,\n   882,\n   886,\n   890,\n   894,\n   898,\n   902,\n   906,\n   910,\n   914],\n  'tf': 34,\n  'tf-idf': 2.8933196652932645},\n '9391': {'positions': [29], 'tf': 1, 'tf-idf': 1.1429365047502662},\n '9399': {'positions': [173, 350], 'tf': 2, 'tf-idf': 1.4869946758194448},\n '9403': {'positions': [1799, 2564, 2568, 2570, 2774, 3112],\n  'tf': 6,\n  'tf-idf': 2.0323139750307972},\n '9409': {'positions': [8, 35, 46, 431, 433, 502, 528, 541],\n  'tf': 8,\n  'tf-idf': 2.1751110179578017},\n '9414': {'positions': [7], 'tf': 1, 'tf-idf': 1.1429365047502662},\n '9418': {'positions': [1265], 'tf': 1, 'tf-idf': 1.1429365047502662},\n '9455': {'positions': [82], 'tf': 1, 'tf-idf': 1.1429365047502662},\n '9465': {'positions': [116], 'tf': 1, 'tf-idf': 1.1429365047502662},\n '9493': {'positions': [928], 'tf': 1, 'tf-idf': 1.1429365047502662},\n '9496': {'positions': [1743, 1825, 1910],\n  'tf': 3,\n  'tf-idf': 1.6882558039616187},\n '9499': {'positions': [9], 'tf': 1, 'tf-idf': 1.1429365047502662},\n '9506': {'positions': [41, 2331, 2366, 2446, 2632],\n  'tf': 5,\n  'tf-idf': 1.9418148384313538},\n '9521': {'positions': [12, 24, 194, 435],\n  'tf': 4,\n  'tf-idf': 1.8310528468886234},\n '9531': {'positions': [71], 'tf': 1, 'tf-idf': 1.1429365047502662},\n '9533': {'positions': [780, 796], 'tf': 2, 'tf-idf': 1.4869946758194448},\n '9543': {'positions': [10, 141], 'tf': 2, 'tf-idf': 1.4869946758194448},\n '9587': {'positions': [7, 29, 57], 'tf': 3, 'tf-idf': 1.6882558039616187},\n '9593': {'positions': [104, 198], 'tf': 2, 'tf-idf': 1.4869946758194448},\n '9599': {'positions': [126], 'tf': 1, 'tf-idf': 1.1429365047502662},\n '9608': {'positions': [171, 176, 181, 207],\n  'tf': 4,\n  'tf-idf': 1.8310528468886234},\n '9614': {'positions': [7, 12, 24, 28, 38, 58, 62, 81, 84, 97],\n  'tf': 10,\n  'tf-idf': 2.2858730095005324},\n '9618': {'positions': [269], 'tf': 1, 'tf-idf': 1.1429365047502662},\n '9620': {'positions': [116], 'tf': 1, 'tf-idf': 1.1429365047502662},\n '9621': {'positions': [90,\n   129,\n   145,\n   199,\n   207,\n   216,\n   263,\n   280,\n   286,\n   321,\n   344,\n   346,\n   353],\n  'tf': 13,\n  'tf-idf': 2.416103026325637},\n '9641': {'positions': [8,\n   15,\n   22,\n   39,\n   51,\n   60,\n   81,\n   103,\n   122,\n   152,\n   173,\n   194,\n   199],\n  'tf': 13,\n  'tf-idf': 2.416103026325637},\n '9643': {'positions': [188, 193], 'tf': 2, 'tf-idf': 1.4869946758194448},\n '9662': {'positions': [137], 'tf': 1, 'tf-idf': 1.1429365047502662},\n '9665': {'positions': [12,\n   18,\n   35,\n   44,\n   69,\n   175,\n   219,\n   253,\n   259,\n   297,\n   362,\n   394,\n   410,\n   421,\n   442,\n   451,\n   461],\n  'tf': 17,\n  'tf-idf': 2.549261494224086},\n '9666': {'positions': [17,\n   24,\n   29,\n   55,\n   72,\n   80,\n   99,\n   200,\n   208,\n   210,\n   248,\n   266,\n   282,\n   287,\n   295,\n   377,\n   391,\n   410],\n  'tf': 18,\n  'tf-idf': 2.5776332742421495},\n '9667': {'positions': [8, 15, 21, 32, 38, 55, 79, 102],\n  'tf': 8,\n  'tf-idf': 2.1751110179578017},\n '9668': {'positions': [8,\n   20,\n   23,\n   28,\n   42,\n   47,\n   54,\n   61,\n   66,\n   73,\n   92,\n   108,\n   128,\n   177,\n   206,\n   219,\n   241,\n   271],\n  'tf': 18,\n  'tf-idf': 2.5776332742421495},\n '9669': {'positions': [8, 18, 48, 55, 59, 62, 67, 74, 77],\n  'tf': 9,\n  'tf-idf': 2.233575103172971},\n '9672': {'positions': [23,\n   47,\n   57,\n   120,\n   275,\n   318,\n   330,\n   333,\n   340,\n   393,\n   559,\n   566,\n   576],\n  'tf': 13,\n  'tf-idf': 2.416103026325637},\n '9676': {'positions': [7, 19, 67, 104],\n  'tf': 4,\n  'tf-idf': 1.8310528468886234},\n '9680': {'positions': [7], 'tf': 1, 'tf-idf': 1.1429365047502662},\n '9686': {'positions': [93], 'tf': 1, 'tf-idf': 1.1429365047502662},\n '9687': {'positions': [2178], 'tf': 1, 'tf-idf': 1.1429365047502662},\n '9691': {'positions': [1225], 'tf': 1, 'tf-idf': 1.1429365047502662},\n '9694': {'positions': [1057, 2554, 2608, 2609, 2645, 2647, 2926, 3059, 3703],\n  'tf': 9,\n  'tf-idf': 2.233575103172971},\n '9701': {'positions': [394], 'tf': 1, 'tf-idf': 1.1429365047502662},\n '9712': {'positions': [32,\n   168,\n   231,\n   841,\n   861,\n   927,\n   955,\n   962,\n   1189,\n   1194,\n   1315,\n   1407,\n   1698],\n  'tf': 13,\n  'tf-idf': 2.416103026325637},\n '9717': {'positions': [127, 139, 153, 167, 236],\n  'tf': 5,\n  'tf-idf': 1.9418148384313538},\n '9733': {'positions': [3, 265], 'tf': 2, 'tf-idf': 1.4869946758194448},\n '9757': {'positions': [10], 'tf': 1, 'tf-idf': 1.1429365047502662},\n '9766': {'positions': [34], 'tf': 1, 'tf-idf': 1.1429365047502662},\n '9767': {'positions': [92, 132], 'tf': 2, 'tf-idf': 1.4869946758194448},\n '9774': {'positions': [38], 'tf': 1, 'tf-idf': 1.1429365047502662},\n '9776': {'positions': [189, 363, 406], 'tf': 3, 'tf-idf': 1.6882558039616187},\n '9779': {'positions': [139, 182], 'tf': 2, 'tf-idf': 1.4869946758194448},\n '9782': {'positions': [93], 'tf': 1, 'tf-idf': 1.1429365047502662},\n '9784': {'positions': [36], 'tf': 1, 'tf-idf': 1.1429365047502662},\n '9795': {'positions': [60], 'tf': 1, 'tf-idf': 1.1429365047502662},\n '9810': {'positions': [49, 51], 'tf': 2, 'tf-idf': 1.4869946758194448},\n '9812': {'positions': [41], 'tf': 1, 'tf-idf': 1.1429365047502662},\n '9816': {'positions': [12], 'tf': 1, 'tf-idf': 1.1429365047502662},\n '9818': {'positions': [105], 'tf': 1, 'tf-idf': 1.1429365047502662},\n '9845': {'positions': [6,\n   485,\n   493,\n   505,\n   514,\n   522,\n   537,\n   566,\n   584,\n   595,\n   604,\n   612,\n   623,\n   631,\n   641,\n   652,\n   660,\n   669,\n   677,\n   689,\n   698,\n   707,\n   718,\n   726,\n   738,\n   745,\n   758,\n   769,\n   779,\n   790,\n   799,\n   812,\n   821,\n   830,\n   839,\n   851,\n   861,\n   871,\n   878,\n   888,\n   898,\n   908,\n   920,\n   929,\n   941,\n   953,\n   964,\n   974,\n   986,\n   997,\n   1019,\n   1029,\n   1041,\n   1053,\n   1062,\n   1072,\n   1085,\n   1099,\n   1109,\n   1121,\n   1134,\n   1144,\n   1153,\n   1163,\n   1175,\n   1185,\n   1194,\n   1203,\n   1213,\n   1223,\n   1232,\n   1242,\n   1251,\n   1262,\n   1281,\n   1289,\n   1297,\n   1307,\n   1316,\n   1324],\n  'tf': 80,\n  'tf-idf': 3.318047522708068},\n '9856': {'positions': [222, 316], 'tf': 2, 'tf-idf': 1.4869946758194448},\n '9866': {'positions': [10, 39, 80], 'tf': 3, 'tf-idf': 1.6882558039616187},\n '9870': {'positions': [27, 35, 173], 'tf': 3, 'tf-idf': 1.6882558039616187},\n '9871': {'positions': [588], 'tf': 1, 'tf-idf': 1.1429365047502662},\n '9875': {'positions': [15,\n   41,\n   57,\n   111,\n   192,\n   653,\n   737,\n   816,\n   1345,\n   1377,\n   1384,\n   1416,\n   1477,\n   1508,\n   1535,\n   1577,\n   1593,\n   1607,\n   1709,\n   1751],\n  'tf': 20,\n  'tf-idf': 2.6299311805697108},\n '9879': {'positions': [5, 26, 78, 87, 171, 182, 193, 217, 233, 246],\n  'tf': 10,\n  'tf-idf': 2.2858730095005324},\n '9889': {'positions': [10, 149, 329], 'tf': 3, 'tf-idf': 1.6882558039616187},\n '9897': {'positions': [5, 63], 'tf': 2, 'tf-idf': 1.4869946758194448},\n '9912': {'positions': [103], 'tf': 1, 'tf-idf': 1.1429365047502662},\n '9915': {'positions': [17, 303, 360, 369, 386],\n  'tf': 5,\n  'tf-idf': 1.9418148384313538},\n '9916': {'positions': [717,\n   721,\n   726,\n   730,\n   748,\n   753,\n   763,\n   777,\n   783,\n   789,\n   800,\n   805,\n   846,\n   852,\n   858,\n   863,\n   868,\n   873,\n   881,\n   887,\n   892,\n   901,\n   913,\n   919,\n   925,\n   937,\n   951,\n   957,\n   971,\n   979,\n   987,\n   1005,\n   1009,\n   1021,\n   1027,\n   1033,\n   1048,\n   1055,\n   1075,\n   1087,\n   1096,\n   1102,\n   1112,\n   1133,\n   1139,\n   1145,\n   1151,\n   1163,\n   1180,\n   1192,\n   1198,\n   1219,\n   1225,\n   1231,\n   1236,\n   1254,\n   1259,\n   1264,\n   1268,\n   1289,\n   1295,\n   1311,\n   1379,\n   1385,\n   1391],\n  'tf': 65,\n  'tf-idf': 3.2149813600067243},\n '9940': {'positions': [638], 'tf': 1, 'tf-idf': 1.1429365047502662},\n '9947': {'positions': [15, 25, 32, 357, 909, 1300],\n  'tf': 6,\n  'tf-idf': 2.0323139750307972},\n '9963': {'positions': [16, 26, 118, 214, 336],\n  'tf': 5,\n  'tf-idf': 1.9418148384313538},\n '9970': {'positions': [11,\n   1308,\n   2162,\n   2176,\n   2182,\n   2188,\n   2198,\n   2203,\n   2217,\n   2295,\n   2331,\n   2333,\n   2350,\n   2360,\n   2395,\n   2407,\n   2413,\n   2421,\n   2778,\n   2797,\n   3098,\n   3107,\n   3167,\n   3173,\n   3192,\n   3218,\n   3232,\n   3241,\n   3256],\n  'tf': 29,\n  'tf-idf': 2.8143645610226864},\n '9973': {'positions': [12,\n   48,\n   66,\n   141,\n   252,\n   309,\n   611,\n   633,\n   674,\n   762,\n   771,\n   793],\n  'tf': 12,\n  'tf-idf': 2.376372146099976},\n '9976': {'positions': [645], 'tf': 1, 'tf-idf': 1.1429365047502662},\n '9987': {'positions': [6, 75, 87, 109],\n  'tf': 4,\n  'tf-idf': 1.8310528468886234},\n '9988': {'positions': [1432, 1486], 'tf': 2, 'tf-idf': 1.4869946758194448},\n '9992': {'positions': [9, 67, 69, 181, 339, 721, 822, 843, 856],\n  'tf': 9,\n  'tf-idf': 2.233575103172971},\n '10004': {'positions': [125], 'tf': 1, 'tf-idf': 1.1429365047502662},\n '10009': {'positions': [9, 15, 20, 34],\n  'tf': 4,\n  'tf-idf': 1.8310528468886234},\n '10021': {'positions': [36, 73, 174], 'tf': 3, 'tf-idf': 1.6882558039616187},\n '10025': {'positions': [55], 'tf': 1, 'tf-idf': 1.1429365047502662},\n '10028': {'positions': [48, 411, 659, 677],\n  'tf': 4,\n  'tf-idf': 1.8310528468886234},\n '10030': {'positions': [8, 97, 108, 113, 126, 179, 248, 424],\n  'tf': 8,\n  'tf-idf': 2.1751110179578017},\n '10031': {'positions': [7, 22, 32, 44],\n  'tf': 4,\n  'tf-idf': 1.8310528468886234},\n '10035': {'positions': [146], 'tf': 1, 'tf-idf': 1.1429365047502662},\n '10040': {'positions': [10, 13, 142, 588, 1008],\n  'tf': 5,\n  'tf-idf': 1.9418148384313538},\n '10041': {'positions': [502, 510], 'tf': 2, 'tf-idf': 1.4869946758194448},\n '10044': {'positions': [12, 45, 61, 78, 85, 150, 193, 236],\n  'tf': 8,\n  'tf-idf': 2.1751110179578017},\n '10045': {'positions': [162], 'tf': 1, 'tf-idf': 1.1429365047502662},\n '10049': {'positions': [16], 'tf': 1, 'tf-idf': 1.1429365047502662},\n '10051': {'positions': [122, 126, 148, 162, 196, 202, 230, 237],\n  'tf': 8,\n  'tf-idf': 2.1751110179578017},\n '10061': {'positions': [45, 131, 167, 250, 370],\n  'tf': 5,\n  'tf-idf': 1.9418148384313538},\n '10064': {'positions': [10, 18, 67], 'tf': 3, 'tf-idf': 1.6882558039616187},\n '10065': {'positions': [379, 410], 'tf': 2, 'tf-idf': 1.4869946758194448},\n '10066': {'positions': [11, 69, 89], 'tf': 3, 'tf-idf': 1.6882558039616187},\n '10067': {'positions': [36, 58, 167, 176],\n  'tf': 4,\n  'tf-idf': 1.8310528468886234},\n '10069': {'positions': [13], 'tf': 1, 'tf-idf': 1.1429365047502662},\n '10077': {'positions': [20, 41, 51, 61, 65, 606, 662],\n  'tf': 7,\n  'tf-idf': 2.1088299047754617},\n '10078': {'positions': [24, 43, 47, 66, 90, 100, 116],\n  'tf': 7,\n  'tf-idf': 2.1088299047754617},\n '10081': {'positions': [18, 515, 536, 808],\n  'tf': 4,\n  'tf-idf': 1.8310528468886234},\n '10083': {'positions': [12, 465, 472, 490, 543],\n  'tf': 5,\n  'tf-idf': 1.9418148384313538},\n '10088': {'positions': [49, 125, 167], 'tf': 3, 'tf-idf': 1.6882558039616187},\n '10089': {'positions': [14, 17, 29, 35, 53, 74, 98, 114, 152, 161, 186, 205],\n  'tf': 12,\n  'tf-idf': 2.376372146099976},\n '10092': {'positions': [155,\n   182,\n   246,\n   677,\n   687,\n   689,\n   697,\n   701,\n   705,\n   709,\n   716,\n   1642,\n   1978,\n   1984,\n   1992,\n   1994,\n   1998,\n   2015,\n   2160,\n   2164,\n   2170],\n  'tf': 21,\n  'tf-idf': 2.6541492039868144},\n '10094': {'positions': [12, 463, 568, 592, 609, 618],\n  'tf': 6,\n  'tf-idf': 2.0323139750307972},\n '10096': {'positions': [294, 313, 1433, 1869],\n  'tf': 4,\n  'tf-idf': 1.8310528468886234},\n '10100': {'positions': [82], 'tf': 1, 'tf-idf': 1.1429365047502662},\n '10101': {'positions': [2], 'tf': 1, 'tf-idf': 1.1429365047502662},\n '10102': {'positions': [85], 'tf': 1, 'tf-idf': 1.1429365047502662},\n '10103': {'positions': [14, 53, 75, 129, 131, 490],\n  'tf': 6,\n  'tf-idf': 2.0323139750307972},\n '10104': {'positions': [292, 311], 'tf': 2, 'tf-idf': 1.4869946758194448},\n '10108': {'positions': [109, 153], 'tf': 2, 'tf-idf': 1.4869946758194448},\n '10109': {'positions': [202], 'tf': 1, 'tf-idf': 1.1429365047502662},\n '10116': {'positions': [17], 'tf': 1, 'tf-idf': 1.1429365047502662},\n '10118': {'positions': [10,\n   19,\n   34,\n   46,\n   49,\n   80,\n   161,\n   173,\n   176,\n   199,\n   260,\n   265,\n   306,\n   319],\n  'tf': 14,\n  'tf-idf': 2.45288807584464},\n '10119': {'positions': [20, 26, 39, 96, 137],\n  'tf': 5,\n  'tf-idf': 1.9418148384313538},\n '10121': {'positions': [13, 61, 74, 106, 114, 131, 151, 193, 326],\n  'tf': 9,\n  'tf-idf': 2.233575103172971},\n '10122': {'positions': [18, 36, 45, 56, 518, 524, 527, 545, 552, 608],\n  'tf': 10,\n  'tf-idf': 2.2858730095005324},\n '10124': {'positions': [16], 'tf': 1, 'tf-idf': 1.1429365047502662},\n '10128': {'positions': [11, 325, 339], 'tf': 3, 'tf-idf': 1.6882558039616187},\n '10131': {'positions': [21], 'tf': 1, 'tf-idf': 1.1429365047502662},\n '10140': {'positions': [35], 'tf': 1, 'tf-idf': 1.1429365047502662},\n '10141': {'positions': [16,\n   29,\n   35,\n   42,\n   50,\n   66,\n   108,\n   115,\n   116,\n   122,\n   137,\n   149,\n   152,\n   183,\n   264,\n   276,\n   279,\n   302,\n   363,\n   368,\n   409,\n   422,\n   456,\n   488,\n   510,\n   564,\n   566,\n   925],\n  'tf': 28,\n  'tf-idf': 2.796946246913819},\n '10148': {'positions': [7, 81, 86, 114, 145, 164, 489, 527],\n  'tf': 8,\n  'tf-idf': 2.1751110179578017},\n '10150': {'positions': [38,\n   140,\n   174,\n   187,\n   202,\n   245,\n   282,\n   327,\n   397,\n   428,\n   466,\n   499,\n   529,\n   543,\n   570,\n   597,\n   641],\n  'tf': 17,\n  'tf-idf': 2.549261494224086},\n '10153': {'positions': [17], 'tf': 1, 'tf-idf': 1.1429365047502662},\n '10156': {'positions': [11, 823, 836, 844, 846, 871, 887, 899],\n  'tf': 8,\n  'tf-idf': 2.1751110179578017},\n '10157': {'positions': [77], 'tf': 1, 'tf-idf': 1.1429365047502662},\n '10159': {'positions': [1, 12], 'tf': 2, 'tf-idf': 1.4869946758194448},\n '10160': {'positions': [134, 516], 'tf': 2, 'tf-idf': 1.4869946758194448},\n '10161': {'positions': [461], 'tf': 1, 'tf-idf': 1.1429365047502662},\n '10162': {'positions': [7,\n   14,\n   25,\n   41,\n   85,\n   150,\n   184,\n   222,\n   313,\n   324,\n   448,\n   462,\n   486,\n   491,\n   510,\n   513,\n   546,\n   554,\n   585,\n   635,\n   658,\n   828,\n   889,\n   1046],\n  'tf': 24,\n  'tf-idf': 2.720430317169154},\n '10163': {'positions': [43, 45], 'tf': 2, 'tf-idf': 1.4869946758194448},\n '10167': {'positions': [18, 25, 64, 89, 108, 177],\n  'tf': 6,\n  'tf-idf': 2.0323139750307972},\n '10169': {'positions': [18], 'tf': 1, 'tf-idf': 1.1429365047502662},\n '10171': {'positions': [20, 38, 44], 'tf': 3, 'tf-idf': 1.6882558039616187},\n '10176': {'positions': [157, 161], 'tf': 2, 'tf-idf': 1.4869946758194448},\n '10178': {'positions': [16, 108, 376, 394, 559, 608],\n  'tf': 6,\n  'tf-idf': 2.0323139750307972},\n '10183': {'positions': [8], 'tf': 1, 'tf-idf': 1.1429365047502662},\n '10187': {'positions': [135, 261], 'tf': 2, 'tf-idf': 1.4869946758194448},\n '10188': {'positions': [14, 28, 41, 88],\n  'tf': 4,\n  'tf-idf': 1.8310528468886234},\n '10204': {'positions': [82, 112, 144, 171],\n  'tf': 4,\n  'tf-idf': 1.8310528468886234},\n '10205': {'positions': [7, 77, 87], 'tf': 3, 'tf-idf': 1.6882558039616187},\n '10209': {'positions': [92, 635, 643, 647, 651, 658],\n  'tf': 6,\n  'tf-idf': 2.0323139750307972},\n '10210': {'positions': [12, 23], 'tf': 2, 'tf-idf': 1.4869946758194448},\n '10213': {'positions': [8,\n   35,\n   69,\n   82,\n   99,\n   136,\n   142,\n   146,\n   154,\n   179,\n   181,\n   183,\n   191,\n   199],\n  'tf': 14,\n  'tf-idf': 2.45288807584464},\n '10217': {'positions': [62, 67], 'tf': 2, 'tf-idf': 1.4869946758194448},\n '10223': {'positions': [138], 'tf': 1, 'tf-idf': 1.1429365047502662},\n '10226': {'positions': [50, 52], 'tf': 2, 'tf-idf': 1.4869946758194448},\n '10233': {'positions': [81], 'tf': 1, 'tf-idf': 1.1429365047502662},\n '10234': {'positions': [15], 'tf': 1, 'tf-idf': 1.1429365047502662},\n '10236': {'positions': [21, 29, 36, 106, 116, 128, 138, 171, 302],\n  'tf': 9,\n  'tf-idf': 2.233575103172971},\n '10253': {'positions': [115, 282, 291, 359, 365],\n  'tf': 5,\n  'tf-idf': 1.9418148384313538},\n '10254': {'positions': [292, 532], 'tf': 2, 'tf-idf': 1.4869946758194448},\n '10257': {'positions': [20, 102], 'tf': 2, 'tf-idf': 1.4869946758194448},\n '10259': {'positions': [5, 8, 20, 87, 131, 134, 150, 175, 178],\n  'tf': 9,\n  'tf-idf': 2.233575103172971},\n '10261': {'positions': [13, 25, 39], 'tf': 3, 'tf-idf': 1.6882558039616187},\n '10266': {'positions': [11, 27, 36, 40, 44, 56, 99, 121, 133, 152],\n  'tf': 10,\n  'tf-idf': 2.2858730095005324},\n '10268': {'positions': [26], 'tf': 1, 'tf-idf': 1.1429365047502662},\n '10278': {'positions': [802,\n   1050,\n   1519,\n   1523,\n   1564,\n   1569,\n   1575,\n   1688,\n   1760,\n   1791,\n   2013,\n   2256,\n   2287,\n   2406,\n   2410,\n   2671,\n   2676,\n   2681,\n   2689,\n   2766,\n   2891,\n   3194,\n   3200,\n   3205],\n  'tf': 24,\n  'tf-idf': 2.720430317169154},\n '10279': {'positions': [330], 'tf': 1, 'tf-idf': 1.1429365047502662},\n '10294': {'positions': [1043, 1059], 'tf': 2, 'tf-idf': 1.4869946758194448},\n '10295': {'positions': [317], 'tf': 1, 'tf-idf': 1.1429365047502662},\n '10310': {'positions': [62], 'tf': 1, 'tf-idf': 1.1429365047502662},\n '10315': {'positions': [15, 167, 205, 218],\n  'tf': 4,\n  'tf-idf': 1.8310528468886234},\n '10319': {'positions': [18, 1077], 'tf': 2, 'tf-idf': 1.4869946758194448},\n '10321': {'positions': [619], 'tf': 1, 'tf-idf': 1.1429365047502662},\n '10323': {'positions': [6, 215, 242, 255, 488],\n  'tf': 5,\n  'tf-idf': 1.9418148384313538},\n '10324': {'positions': [6], 'tf': 1, 'tf-idf': 1.1429365047502662},\n '10327': {'positions': [6, 54, 82, 95, 260],\n  'tf': 5,\n  'tf-idf': 1.9418148384313538},\n '10329': {'positions': [6], 'tf': 1, 'tf-idf': 1.1429365047502662},\n '10333': {'positions': [11, 110, 216, 257],\n  'tf': 4,\n  'tf-idf': 1.8310528468886234},\n '10335': {'positions': [48], 'tf': 1, 'tf-idf': 1.1429365047502662},\n '10338': {'positions': [16], 'tf': 1, 'tf-idf': 1.1429365047502662},\n '10349': {'positions': [10, 15, 60, 77, 101, 105],\n  'tf': 6,\n  'tf-idf': 2.0323139750307972},\n '10361': {'positions': [12, 36, 65], 'tf': 3, 'tf-idf': 1.6882558039616187},\n '10366': {'positions': [11, 29, 40, 105, 143],\n  'tf': 5,\n  'tf-idf': 1.9418148384313538},\n '10368': {'positions': [113], 'tf': 1, 'tf-idf': 1.1429365047502662},\n '10394': {'positions': [90], 'tf': 1, 'tf-idf': 1.1429365047502662},\n '10401': {'positions': [165], 'tf': 1, 'tf-idf': 1.1429365047502662},\n '10406': {'positions': [236], 'tf': 1, 'tf-idf': 1.1429365047502662},\n '10409': {'positions': [72, 106], 'tf': 2, 'tf-idf': 1.4869946758194448},\n '10411': {'positions': [187], 'tf': 1, 'tf-idf': 1.1429365047502662},\n '10413': {'positions': [364, 395], 'tf': 2, 'tf-idf': 1.4869946758194448},\n '10415': {'positions': [9, 43], 'tf': 2, 'tf-idf': 1.4869946758194448},\n '10416': {'positions': [13, 83, 140, 152, 196, 208, 316],\n  'tf': 7,\n  'tf-idf': 2.1088299047754617},\n '10422': {'positions': [960, 1369], 'tf': 2, 'tf-idf': 1.4869946758194448},\n '10428': {'positions': [226], 'tf': 1, 'tf-idf': 1.1429365047502662},\n '10448': {'positions': [10,\n   24,\n   31,\n   94,\n   104,\n   111,\n   120,\n   189,\n   225,\n   250,\n   260,\n   277,\n   279,\n   291,\n   299,\n   310,\n   320,\n   336,\n   345,\n   363,\n   371,\n   388],\n  'tf': 22,\n  'tf-idf': 2.6772403914666807},\n '10451': {'positions': [152], 'tf': 1, 'tf-idf': 1.1429365047502662},\n '10467': {'positions': [142], 'tf': 1, 'tf-idf': 1.1429365047502662},\n '10469': {'positions': [581], 'tf': 1, 'tf-idf': 1.1429365047502662},\n '10471': {'positions': [258], 'tf': 1, 'tf-idf': 1.1429365047502662},\n '10473': {'positions': [64, 429], 'tf': 2, 'tf-idf': 1.4869946758194448},\n '10477': {'positions': [8], 'tf': 1, 'tf-idf': 1.1429365047502662},\n '10479': {'positions': [4, 7, 70], 'tf': 3, 'tf-idf': 1.6882558039616187},\n '10480': {'positions': [209], 'tf': 1, 'tf-idf': 1.1429365047502662},\n '10487': {'positions': [7, 18, 185], 'tf': 3, 'tf-idf': 1.6882558039616187},\n '10496': {'positions': [177], 'tf': 1, 'tf-idf': 1.1429365047502662},\n '10501': {'positions': [254], 'tf': 1, 'tf-idf': 1.1429365047502662},\n '10503': {'positions': [138], 'tf': 1, 'tf-idf': 1.1429365047502662},\n '10504': {'positions': [2, 8, 46], 'tf': 3, 'tf-idf': 1.6882558039616187},\n '10505': {'positions': [235, 270], 'tf': 2, 'tf-idf': 1.4869946758194448},\n '10506': {'positions': [6, 23, 52, 65],\n  'tf': 4,\n  'tf-idf': 1.8310528468886234},\n '10508': {'positions': [24, 141, 151, 177, 227, 228, 236],\n  'tf': 7,\n  'tf-idf': 2.1088299047754617},\n '10518': {'positions': [6,\n   26,\n   61,\n   67,\n   88,\n   99,\n   108,\n   126,\n   148,\n   156,\n   181,\n   213,\n   241,\n   269,\n   280,\n   305],\n  'tf': 16,\n  'tf-idf': 2.5191691890269805},\n '10523': {'positions': [32, 44, 82, 143, 243, 350, 357, 365],\n  'tf': 8,\n  'tf-idf': 2.1751110179578017},\n '10524': {'positions': [178], 'tf': 1, 'tf-idf': 1.1429365047502662},\n '10526': {'positions': [17, 58, 101, 164, 174, 240, 276],\n  'tf': 7,\n  'tf-idf': 2.1088299047754617},\n '10528': {'positions': [145, 154], 'tf': 2, 'tf-idf': 1.4869946758194448},\n '10531': {'positions': [94], 'tf': 1, 'tf-idf': 1.1429365047502662},\n '10532': {'positions': [5], 'tf': 1, 'tf-idf': 1.1429365047502662},\n '10541': {'positions': [98], 'tf': 1, 'tf-idf': 1.1429365047502662},\n '10543': {'positions': [12, 92, 126, 133],\n  'tf': 4,\n  'tf-idf': 1.8310528468886234},\n '10552': {'positions': [177], 'tf': 1, 'tf-idf': 1.1429365047502662},\n '10555': {'positions': [784, 1208, 1901, 2266, 2275, 2277, 2299, 2604],\n  'tf': 8,\n  'tf-idf': 2.1751110179578017},\n '10557': {'positions': [363, 372, 374, 396],\n  'tf': 4,\n  'tf-idf': 1.8310528468886234},\n '10560': {'positions': [333], 'tf': 1, 'tf-idf': 1.1429365047502662},\n '10561': {'positions': [93], 'tf': 1, 'tf-idf': 1.1429365047502662},\n '10568': {'positions': [446], 'tf': 1, 'tf-idf': 1.1429365047502662},\n '10572': {'positions': [13, 32], 'tf': 2, 'tf-idf': 1.4869946758194448},\n '10580': {'positions': [6, 20, 43, 54],\n  'tf': 4,\n  'tf-idf': 1.8310528468886234},\n '10585': {'positions': [8, 94, 123, 445],\n  'tf': 4,\n  'tf-idf': 1.8310528468886234},\n '10589': {'positions': [152], 'tf': 1, 'tf-idf': 1.1429365047502662},\n '10597': {'positions': [49, 76, 81, 98, 123, 150],\n  'tf': 6,\n  'tf-idf': 2.0323139750307972},\n '10600': {'positions': [1125, 1259], 'tf': 2, 'tf-idf': 1.4869946758194448},\n '10603': {'positions': [6, 173], 'tf': 2, 'tf-idf': 1.4869946758194448},\n '10627': {'positions': [10], 'tf': 1, 'tf-idf': 1.1429365047502662},\n '10632': {'positions': [8, 235, 429, 564],\n  'tf': 4,\n  'tf-idf': 1.8310528468886234},\n '10641': {'positions': [163], 'tf': 1, 'tf-idf': 1.1429365047502662},\n '10646': {'positions': [33, 66, 81, 84, 140],\n  'tf': 5,\n  'tf-idf': 1.9418148384313538},\n '10649': {'positions': [9], 'tf': 1, 'tf-idf': 1.1429365047502662},\n '10659': {'positions': [17, 22, 78, 267],\n  'tf': 4,\n  'tf-idf': 1.8310528468886234},\n '10672': {'positions': [9,\n   26,\n   35,\n   97,\n   99,\n   110,\n   116,\n   137,\n   147,\n   157,\n   195,\n   202,\n   222,\n   260],\n  'tf': 14,\n  'tf-idf': 2.45288807584464},\n '10681': {'positions': [209, 228, 243],\n  'tf': 3,\n  'tf-idf': 1.6882558039616187},\n '10689': {'positions': [113], 'tf': 1, 'tf-idf': 1.1429365047502662},\n '10697': {'positions': [6, 77, 240, 319, 347, 471, 606, 666, 748],\n  'tf': 9,\n  'tf-idf': 2.233575103172971},\n '10702': {'positions': [154, 159, 166],\n  'tf': 3,\n  'tf-idf': 1.6882558039616187},\n '10703': {'positions': [36], 'tf': 1, 'tf-idf': 1.1429365047502662},\n '10714': {'positions': [102], 'tf': 1, 'tf-idf': 1.1429365047502662},\n '10724': {'positions': [8], 'tf': 1, 'tf-idf': 1.1429365047502662},\n '10726': {'positions': [3, 58, 114, 212, 337],\n  'tf': 5,\n  'tf-idf': 1.9418148384313538},\n '10729': {'positions': [142, 145], 'tf': 2, 'tf-idf': 1.4869946758194448},\n '10730': {'positions': [8], 'tf': 1, 'tf-idf': 1.1429365047502662},\n '10734': {'positions': [4, 31, 50, 65],\n  'tf': 4,\n  'tf-idf': 1.8310528468886234},\n '10737': {'positions': [713], 'tf': 1, 'tf-idf': 1.1429365047502662},\n '10738': {'positions': [97, 102, 108, 112, 118, 169],\n  'tf': 6,\n  'tf-idf': 2.0323139750307972},\n '10740': {'positions': [351, 353, 360, 369, 434],\n  'tf': 5,\n  'tf-idf': 1.9418148384313538},\n '10745': {'positions': [203, 773, 1734, 1890, 1902, 1914, 4046, 4225, 4614],\n  'tf': 9,\n  'tf-idf': 2.233575103172971},\n '10760': {'positions': [23, 42], 'tf': 2, 'tf-idf': 1.4869946758194448},\n '10771': {'positions': [4, 85, 105, 155, 221, 223, 246, 270],\n  'tf': 8,\n  'tf-idf': 2.1751110179578017},\n '10777': {'positions': [53], 'tf': 1, 'tf-idf': 1.1429365047502662},\n '10790': {'positions': [248, 305, 544, 568],\n  'tf': 4,\n  'tf-idf': 1.8310528468886234},\n '10795': {'positions': [197], 'tf': 1, 'tf-idf': 1.1429365047502662},\n '10801': {'positions': [178, 184, 285],\n  'tf': 3,\n  'tf-idf': 1.6882558039616187},\n '10817': {'positions': [1200], 'tf': 1, 'tf-idf': 1.1429365047502662},\n '10822': {'positions': [243], 'tf': 1, 'tf-idf': 1.1429365047502662},\n '10823': {'positions': [19, 32, 39, 50, 62, 83, 92, 99],\n  'tf': 8,\n  'tf-idf': 2.1751110179578017},\n '10825': {'positions': [59], 'tf': 1, 'tf-idf': 1.1429365047502662},\n '10830': {'positions': [5, 72], 'tf': 2, 'tf-idf': 1.4869946758194448},\n '10842': {'positions': [269, 302], 'tf': 2, 'tf-idf': 1.4869946758194448},\n '10843': {'positions': [20, 21, 143, 259, 271, 274, 318, 414, 426],\n  'tf': 9,\n  'tf-idf': 2.233575103172971},\n '10844': {'positions': [14, 362], 'tf': 2, 'tf-idf': 1.4869946758194448},\n '10845': {'positions': [398, 999, 1006, 1016],\n  'tf': 4,\n  'tf-idf': 1.8310528468886234},\n '10847': {'positions': [190], 'tf': 1, 'tf-idf': 1.1429365047502662},\n '10850': {'positions': [11, 99], 'tf': 2, 'tf-idf': 1.4869946758194448},\n '10852': {'positions': [753, 1312, 1332, 1396, 1402, 2081],\n  'tf': 6,\n  'tf-idf': 2.0323139750307972},\n '10858': {'positions': [6], 'tf': 1, 'tf-idf': 1.1429365047502662},\n '10864': {'positions': [5, 25], 'tf': 2, 'tf-idf': 1.4869946758194448},\n '10868': {'positions': [895, 902, 909],\n  'tf': 3,\n  'tf-idf': 1.6882558039616187},\n '10869': {'positions': [5, 119, 307, 355],\n  'tf': 4,\n  'tf-idf': 1.8310528468886234},\n '10882': {'positions': [1588], 'tf': 1, 'tf-idf': 1.1429365047502662},\n '10887': {'positions': [164, 171, 196, 201],\n  'tf': 4,\n  'tf-idf': 1.8310528468886234},\n '10890': {'positions': [37, 146, 246], 'tf': 3, 'tf-idf': 1.6882558039616187},\n '10891': {'positions': [266, 313], 'tf': 2, 'tf-idf': 1.4869946758194448},\n '10897': {'positions': [20, 29], 'tf': 2, 'tf-idf': 1.4869946758194448},\n '10902': {'positions': [342, 490, 503, 507, 574, 864],\n  'tf': 6,\n  'tf-idf': 2.0323139750307972},\n '10905': {'positions': [47, 57], 'tf': 2, 'tf-idf': 1.4869946758194448},\n '10921': {'positions': [51], 'tf': 1, 'tf-idf': 1.1429365047502662},\n '10925': {'positions': [24], 'tf': 1, 'tf-idf': 1.1429365047502662},\n '10932': {'positions': [46], 'tf': 1, 'tf-idf': 1.1429365047502662},\n '10944': {'positions': [14], 'tf': 1, 'tf-idf': 1.1429365047502662},\n '10947': {'positions': [45, 56, 84, 112],\n  'tf': 4,\n  'tf-idf': 1.8310528468886234},\n '10949': {'positions': [108], 'tf': 1, 'tf-idf': 1.1429365047502662},\n '10950': {'positions': [33], 'tf': 1, 'tf-idf': 1.1429365047502662},\n '10968': {'positions': [861], 'tf': 1, 'tf-idf': 1.1429365047502662},\n '10988': {'positions': [5], 'tf': 1, 'tf-idf': 1.1429365047502662},\n '10989': {'positions': [290, 292, 316, 327, 334],\n  'tf': 5,\n  'tf-idf': 1.9418148384313538},\n '10992': {'positions': [162], 'tf': 1, 'tf-idf': 1.1429365047502662},\n '10994': {'positions': [319], 'tf': 1, 'tf-idf': 1.1429365047502662},\n '11000': {'positions': [328, 743], 'tf': 2, 'tf-idf': 1.4869946758194448},\n '11003': {'positions': [383], 'tf': 1, 'tf-idf': 1.1429365047502662},\n '11022': {'positions': [12, 51, 208, 279, 333, 338, 435],\n  'tf': 7,\n  'tf-idf': 2.1088299047754617},\n '11025': {'positions': [14, 31, 35, 49, 67, 78, 89, 103, 121, 122, 125, 145],\n  'tf': 12,\n  'tf-idf': 2.376372146099976},\n '11035': {'positions': [32, 60, 595], 'tf': 3, 'tf-idf': 1.6882558039616187},\n '11038': {'positions': [24, 64, 285, 308],\n  'tf': 4,\n  'tf-idf': 1.8310528468886234},\n '11044': {'positions': [25,\n   30,\n   53,\n   82,\n   91,\n   111,\n   186,\n   212,\n   300,\n   521,\n   544,\n   740,\n   975,\n   1083,\n   1313,\n   1344,\n   1373,\n   1530,\n   1601,\n   1655,\n   1660,\n   1757],\n  'tf': 22,\n  'tf-idf': 2.6772403914666807},\n '11047': {'positions': [474, 476], 'tf': 2, 'tf-idf': 1.4869946758194448},\n '11051': {'positions': [55], 'tf': 1, 'tf-idf': 1.1429365047502662},\n '11055': {'positions': [76], 'tf': 1, 'tf-idf': 1.1429365047502662},\n '11061': {'positions': [34, 41], 'tf': 2, 'tf-idf': 1.4869946758194448},\n '11063': {'positions': [10, 15], 'tf': 2, 'tf-idf': 1.4869946758194448},\n '11070': {'positions': [259], 'tf': 1, 'tf-idf': 1.1429365047502662},\n '11074': {'positions': [9, 18, 83, 162],\n  'tf': 4,\n  'tf-idf': 1.8310528468886234},\n '11075': {'positions': [9, 814, 818, 943, 953, 2512],\n  'tf': 6,\n  'tf-idf': 2.0323139750307972},\n '11076': {'positions': [22, 34, 45], 'tf': 3, 'tf-idf': 1.6882558039616187},\n '11085': {'positions': [290], 'tf': 1, 'tf-idf': 1.1429365047502662},\n '11089': {'positions': [124, 142, 244],\n  'tf': 3,\n  'tf-idf': 1.6882558039616187},\n '11101': {'positions': [9, 33, 132, 321],\n  'tf': 4,\n  'tf-idf': 1.8310528468886234},\n '11108': {'positions': [31, 54, 148, 411],\n  'tf': 4,\n  'tf-idf': 1.8310528468886234},\n '11110': {'positions': [15, 34, 135, 352],\n  'tf': 4,\n  'tf-idf': 1.8310528468886234},\n '11117': {'positions': [8, 24, 26], 'tf': 3, 'tf-idf': 1.6882558039616187},\n '11144': {'positions': [8], 'tf': 1, 'tf-idf': 1.1429365047502662},\n '11153': {'positions': [104, 106, 127],\n  'tf': 3,\n  'tf-idf': 1.6882558039616187},\n '11167': {'positions': [9, 17, 33, 43, 106, 113],\n  'tf': 6,\n  'tf-idf': 2.0323139750307972},\n '11171': {'positions': [8, 25], 'tf': 2, 'tf-idf': 1.4869946758194448},\n '11174': {'positions': [7, 25, 112], 'tf': 3, 'tf-idf': 1.6882558039616187},\n '11177': {'positions': [13, 25, 32, 275],\n  'tf': 4,\n  'tf-idf': 1.8310528468886234},\n '11190': {'positions': [14, 22, 275, 697],\n  'tf': 4,\n  'tf-idf': 1.8310528468886234},\n '11192': {'positions': [13,\n   23,\n   29,\n   42,\n   47,\n   49,\n   56,\n   61,\n   75,\n   83,\n   125,\n   144,\n   146,\n   177,\n   185,\n   234],\n  'tf': 16,\n  'tf-idf': 2.5191691890269805},\n '11193': {'positions': [16, 42, 51, 62, 180, 193, 195, 209, 252],\n  'tf': 9,\n  'tf-idf': 2.233575103172971},\n '11197': {'positions': [138, 148], 'tf': 2, 'tf-idf': 1.4869946758194448},\n '11201': {'positions': [89, 101], 'tf': 2, 'tf-idf': 1.4869946758194448},\n '11204': {'positions': [175, 191], 'tf': 2, 'tf-idf': 1.4869946758194448},\n '11216': {'positions': [9, 196, 274], 'tf': 3, 'tf-idf': 1.6882558039616187},\n '11223': {'positions': [217, 247, 274, 305, 308, 319, 325, 346, 441],\n  'tf': 9,\n  'tf-idf': 2.233575103172971},\n '11228': {'positions': [7,\n   125,\n   190,\n   246,\n   298,\n   562,\n   618,\n   640,\n   673,\n   678,\n   682,\n   685,\n   690,\n   696,\n   700,\n   704,\n   708,\n   714,\n   718,\n   722,\n   728,\n   732,\n   736,\n   740,\n   744,\n   748,\n   752,\n   756,\n   760,\n   764,\n   768,\n   772,\n   776,\n   780,\n   784],\n  'tf': 35,\n  'tf-idf': 2.907708238456549},\n '11233': {'positions': [130, 171, 213],\n  'tf': 3,\n  'tf-idf': 1.6882558039616187},\n '11243': {'positions': [22], 'tf': 1, 'tf-idf': 1.1429365047502662},\n '11244': {'positions': [353], 'tf': 1, 'tf-idf': 1.1429365047502662},\n '11245': {'positions': [22], 'tf': 1, 'tf-idf': 1.1429365047502662},\n '11248': {'positions': [817], 'tf': 1, 'tf-idf': 1.1429365047502662},\n '11280': {'positions': [2161], 'tf': 1, 'tf-idf': 1.1429365047502662},\n '11288': {'positions': [259], 'tf': 1, 'tf-idf': 1.1429365047502662},\n '11294': {'positions': [11, 21, 35, 45],\n  'tf': 4,\n  'tf-idf': 1.8310528468886234},\n '11316': {'positions': [56], 'tf': 1, 'tf-idf': 1.1429365047502662},\n '11326': {'positions': [10, 279, 448], 'tf': 3, 'tf-idf': 1.6882558039616187},\n '11329': {'positions': [159, 173], 'tf': 2, 'tf-idf': 1.4869946758194448},\n '11339': {'positions': [7, 13, 28, 185, 201, 213],\n  'tf': 6,\n  'tf-idf': 2.0323139750307972},\n '11341': {'positions': [12,\n   34,\n   46,\n   59,\n   70,\n   184,\n   321,\n   458,\n   461,\n   672,\n   857,\n   964,\n   1106,\n   1227,\n   1243,\n   1259,\n   1363,\n   1409,\n   1474,\n   1572,\n   1577,\n   1597,\n   1633,\n   1636,\n   1649,\n   1670,\n   1676,\n   1688,\n   1726,\n   1732,\n   1755,\n   1759,\n   1788],\n  'tf': 33,\n  'tf-idf': 2.878501519608855},\n '11356': {'positions': [94], 'tf': 1, 'tf-idf': 1.1429365047502662},\n '11367': {'positions': [11, 41, 87, 103, 111, 145, 153, 174, 184],\n  'tf': 9,\n  'tf-idf': 2.233575103172971},\n '11382': {'positions': [199], 'tf': 1, 'tf-idf': 1.1429365047502662},\n '11394': {'positions': [22, 37, 88, 126, 179, 232],\n  'tf': 6,\n  'tf-idf': 2.0323139750307972},\n '11405': {'positions': [54, 176, 335, 340, 1301, 1393],\n  'tf': 6,\n  'tf-idf': 2.0323139750307972},\n '11419': {'positions': [101, 915, 1817, 1908, 2017, 2119, 2181],\n  'tf': 7,\n  'tf-idf': 2.1088299047754617},\n '11435': {'positions': [13, 30], 'tf': 2, 'tf-idf': 1.4869946758194448},\n '11437': {'positions': [3163], 'tf': 1, 'tf-idf': 1.1429365047502662},\n '11453': {'positions': [5,\n   14,\n   39,\n   50,\n   77,\n   108,\n   122,\n   141,\n   163,\n   199,\n   210,\n   220,\n   226],\n  'tf': 13,\n  'tf-idf': 2.416103026325637},\n '11457': {'positions': [1881, 2132, 2225, 2391, 2784, 2814, 3197, 3203, 3220],\n  'tf': 9,\n  'tf-idf': 2.233575103172971},\n '11460': {'positions': [276,\n   280,\n   284,\n   290,\n   295,\n   300,\n   304,\n   310,\n   314,\n   320,\n   326,\n   330,\n   336,\n   341],\n  'tf': 14,\n  'tf-idf': 2.45288807584464},\n '11461': {'positions': [297], 'tf': 1, 'tf-idf': 1.1429365047502662},\n '11462': {'positions': [8, 30, 46], 'tf': 3, 'tf-idf': 1.6882558039616187},\n '11463': {'positions': [147, 301], 'tf': 2, 'tf-idf': 1.4869946758194448},\n '11469': {'positions': [81], 'tf': 1, 'tf-idf': 1.1429365047502662},\n '11474': {'positions': [12, 21, 39, 165, 284],\n  'tf': 5,\n  'tf-idf': 1.9418148384313538},\n '11488': {'positions': [153], 'tf': 1, 'tf-idf': 1.1429365047502662},\n '11490': {'positions': [594], 'tf': 1, 'tf-idf': 1.1429365047502662},\n '11493': {'positions': [9, 26, 91], 'tf': 3, 'tf-idf': 1.6882558039616187},\n '11495': {'positions': [737], 'tf': 1, 'tf-idf': 1.1429365047502662},\n '11503': {'positions': [6, 74, 184], 'tf': 3, 'tf-idf': 1.6882558039616187},\n '11509': {'positions': [6, 161, 603], 'tf': 3, 'tf-idf': 1.6882558039616187},\n '11523': {'positions': [8, 141, 148, 170],\n  'tf': 4,\n  'tf-idf': 1.8310528468886234},\n '11524': {'positions': [315], 'tf': 1, 'tf-idf': 1.1429365047502662},\n '11544': {'positions': [89, 136, 1977],\n  'tf': 3,\n  'tf-idf': 1.6882558039616187},\n '11556': {'positions': [358, 373, 381, 567],\n  'tf': 4,\n  'tf-idf': 1.8310528468886234},\n '11561': {'positions': [54], 'tf': 1, 'tf-idf': 1.1429365047502662},\n '11566': {'positions': [31, 73], 'tf': 2, 'tf-idf': 1.4869946758194448},\n '11583': {'positions': [20], 'tf': 1, 'tf-idf': 1.1429365047502662},\n '11592': {'positions': [170], 'tf': 1, 'tf-idf': 1.1429365047502662},\n '11603': {'positions': [12, 19, 34, 47, 92, 162, 227],\n  'tf': 7,\n  'tf-idf': 2.1088299047754617},\n '11612': {'positions': [192], 'tf': 1, 'tf-idf': 1.1429365047502662},\n '11628': {'positions': [124], 'tf': 1, 'tf-idf': 1.1429365047502662},\n '11645': {'positions': [14, 28], 'tf': 2, 'tf-idf': 1.4869946758194448},\n '11649': {'positions': [1872], 'tf': 1, 'tf-idf': 1.1429365047502662},\n '11683': {'positions': [5, 125], 'tf': 2, 'tf-idf': 1.4869946758194448},\n '11686': {'positions': [201, 2110], 'tf': 2, 'tf-idf': 1.4869946758194448},\n '11694': {'positions': [221,\n   225,\n   241,\n   248,\n   253,\n   259,\n   295,\n   308,\n   312,\n   318,\n   324,\n   330,\n   336,\n   340,\n   346,\n   352,\n   359,\n   368,\n   376,\n   380,\n   384,\n   389,\n   396,\n   402,\n   408,\n   414,\n   422,\n   441,\n   445,\n   451,\n   458,\n   464,\n   470,\n   476,\n   482,\n   488,\n   494,\n   500,\n   506,\n   512,\n   518,\n   524,\n   531,\n   538,\n   545,\n   551,\n   556,\n   561,\n   566,\n   572,\n   577,\n   582,\n   587,\n   596],\n  'tf': 54,\n  'tf-idf': 3.122952573453502},\n '11697': {'positions': [124,\n   178,\n   204,\n   228,\n   368,\n   379,\n   390,\n   1241,\n   1252,\n   1399,\n   3591,\n   3684,\n   3707,\n   3765,\n   3772,\n   3791,\n   3811,\n   3818,\n   3861,\n   3868,\n   3883,\n   3931,\n   3933,\n   3942,\n   3995,\n   4008,\n   4015,\n   4020,\n   4024,\n   4060,\n   4101,\n   4133,\n   4201,\n   4276,\n   4366,\n   4423,\n   4436,\n   4453,\n   4556,\n   4627,\n   4648,\n   4661,\n   4672,\n   4691,\n   4696,\n   4742,\n   4791,\n   4806,\n   4808,\n   4829,\n   5012,\n   5124,\n   5132,\n   5153,\n   5185,\n   5203,\n   5322,\n   5407,\n   5447,\n   5450,\n   5566,\n   5846,\n   6133,\n   6150,\n   6237,\n   6278,\n   6300,\n   6355,\n   6375,\n   6397,\n   6400,\n   6405,\n   6424,\n   6431,\n   6435,\n   6444,\n   6457,\n   6503,\n   6567,\n   6569,\n   6571,\n   6641,\n   6645,\n   6661,\n   6694,\n   6770,\n   6794,\n   6859,\n   6864,\n   7235,\n   7241,\n   7270,\n   7374,\n   7385,\n   7443,\n   7454,\n   7492],\n  'tf': 97,\n  'tf-idf': 3.4136904464491526},\n '11699': {'positions': [29], 'tf': 1, 'tf-idf': 1.1429365047502662},\n '11711': {'positions': [194, 206], 'tf': 2, 'tf-idf': 1.4869946758194448},\n '11722': {'positions': [6,\n   12,\n   16,\n   56,\n   82,\n   93,\n   96,\n   98,\n   107,\n   128,\n   159,\n   167,\n   185,\n   188,\n   308,\n   345,\n   352,\n   364],\n  'tf': 18,\n  'tf-idf': 2.5776332742421495},\n '11724': {'positions': [131], 'tf': 1, 'tf-idf': 1.1429365047502662},\n '11733': {'positions': [5], 'tf': 1, 'tf-idf': 1.1429365047502662},\n '11739': {'positions': [7,\n   375,\n   387,\n   397,\n   418,\n   426,\n   434,\n   443,\n   456,\n   466,\n   474,\n   485,\n   496,\n   506,\n   517,\n   528,\n   539,\n   551,\n   564,\n   573,\n   586,\n   605,\n   613,\n   626,\n   638,\n   651,\n   658,\n   665,\n   674,\n   682,\n   693,\n   709,\n   729,\n   739,\n   748,\n   758,\n   765,\n   775,\n   786,\n   793,\n   804,\n   815,\n   825,\n   835,\n   845,\n   856,\n   868,\n   880,\n   892,\n   904,\n   913,\n   923,\n   936,\n   948,\n   960,\n   968,\n   978,\n   990,\n   1002,\n   1013,\n   1024,\n   1035,\n   1047,\n   1057,\n   1067,\n   1077,\n   1087,\n   1099,\n   1109,\n   1120,\n   1131,\n   1139],\n  'tf': 72,\n  'tf-idf': 3.2657496163805066},\n '11749': {'positions': [691, 712, 844],\n  'tf': 3,\n  'tf-idf': 1.6882558039616187},\n '11766': {'positions': [17, 550], 'tf': 2, 'tf-idf': 1.4869946758194448},\n '11767': {'positions': [8,\n   15,\n   52,\n   68,\n   79,\n   92,\n   101,\n   107,\n   129,\n   135,\n   142,\n   148,\n   154,\n   181,\n   901,\n   1024,\n   1039,\n   1051,\n   1079,\n   1091,\n   1095,\n   1108,\n   1128,\n   1143,\n   1147,\n   1150,\n   1206,\n   1257,\n   1265,\n   1316,\n   1323,\n   1345,\n   1369,\n   1371,\n   1390,\n   1433,\n   1474,\n   1481,\n   1502,\n   1518,\n   1526,\n   1554,\n   1602,\n   1611,\n   1614,\n   1619,\n   1622,\n   1755,\n   1784,\n   1819,\n   1850,\n   1854,\n   1887,\n   1923,\n   2261,\n   2289],\n  'tf': 56,\n  'tf-idf': 3.1410044179829972},\n '11768': {'positions': [15, 645, 654, 661, 1006],\n  'tf': 5,\n  'tf-idf': 1.9418148384313538},\n '11778': {'positions': [12, 99, 301], 'tf': 3, 'tf-idf': 1.6882558039616187},\n '11781': {'positions': [85], 'tf': 1, 'tf-idf': 1.1429365047502662},\n '11785': {'positions': [248, 263], 'tf': 2, 'tf-idf': 1.4869946758194448},\n '11789': {'positions': [20], 'tf': 1, 'tf-idf': 1.1429365047502662},\n '11818': {'positions': [48], 'tf': 1, 'tf-idf': 1.1429365047502662},\n '11821': {'positions': [228], 'tf': 1, 'tf-idf': 1.1429365047502662},\n '11822': {'positions': [188], 'tf': 1, 'tf-idf': 1.1429365047502662},\n '11827': {'positions': [120], 'tf': 1, 'tf-idf': 1.1429365047502662},\n '11830': {'positions': [240, 395, 437, 610, 631, 703, 940, 970, 1091],\n  'tf': 9,\n  'tf-idf': 2.233575103172971},\n '11835': {'positions': [216, 451, 463, 507],\n  'tf': 4,\n  'tf-idf': 1.8310528468886234},\n '11836': {'positions': [15], 'tf': 1, 'tf-idf': 1.1429365047502662},\n '11848': {'positions': [18], 'tf': 1, 'tf-idf': 1.1429365047502662},\n '11853': {'positions': [427, 448, 452],\n  'tf': 3,\n  'tf-idf': 1.6882558039616187},\n '11859': {'positions': [16, 95, 111], 'tf': 3, 'tf-idf': 1.6882558039616187},\n '11861': {'positions': [5, 130], 'tf': 2, 'tf-idf': 1.4869946758194448},\n '11866': {'positions': [15, 33, 40, 74, 93],\n  'tf': 5,\n  'tf-idf': 1.9418148384313538},\n '11869': {'positions': [1298], 'tf': 1, 'tf-idf': 1.1429365047502662},\n '11877': {'positions': [68], 'tf': 1, 'tf-idf': 1.1429365047502662},\n '11879': {'positions': [31], 'tf': 1, 'tf-idf': 1.1429365047502662},\n '11885': {'positions': [90, 157], 'tf': 2, 'tf-idf': 1.4869946758194448},\n '11891': {'positions': [36, 140, 310, 481, 652, 843, 977, 1535, 1820],\n  'tf': 9,\n  'tf-idf': 2.233575103172971},\n '11896': {'positions': [24, 31, 52, 138, 220, 434, 769, 771],\n  'tf': 8,\n  'tf-idf': 2.1751110179578017},\n '11899': {'positions': [7,\n   819,\n   1154,\n   1246,\n   1456,\n   1462,\n   1469,\n   1481,\n   1488,\n   1494,\n   1500,\n   1506],\n  'tf': 12,\n  'tf-idf': 2.376372146099976},\n '11900': {'positions': [50, 60], 'tf': 2, 'tf-idf': 1.4869946758194448},\n '11903': {'positions': [13, 48, 55, 62],\n  'tf': 4,\n  'tf-idf': 1.8310528468886234},\n '11912': {'positions': [13, 24], 'tf': 2, 'tf-idf': 1.4869946758194448},\n '11926': {'positions': [7,\n   321,\n   344,\n   449,\n   455,\n   460,\n   466,\n   472,\n   478,\n   483,\n   488,\n   493,\n   498],\n  'tf': 13,\n  'tf-idf': 2.416103026325637},\n '11928': {'positions': [6,\n   91,\n   1121,\n   2482,\n   2485,\n   2515,\n   2571,\n   2575,\n   2605,\n   2614,\n   2647,\n   2686,\n   2703,\n   2706,\n   2715,\n   2724,\n   2748,\n   2756,\n   2792,\n   2813,\n   2827,\n   2832,\n   2861,\n   2873,\n   2882,\n   2912,\n   2923,\n   2935,\n   2952,\n   2957,\n   2969,\n   3004,\n   3035,\n   3037,\n   3079,\n   3083,\n   3111,\n   3136,\n   3153,\n   3161,\n   3190,\n   3204],\n  'tf': 42,\n  'tf-idf': 2.9982073750559928},\n '11934': {'positions': [166], 'tf': 1, 'tf-idf': 1.1429365047502662},\n '11935': {'positions': [18, 39, 203, 361, 372, 381, 397, 417, 491, 515],\n  'tf': 10,\n  'tf-idf': 2.2858730095005324},\n '11940': {'positions': [37], 'tf': 1, 'tf-idf': 1.1429365047502662},\n '11945': {'positions': [5869], 'tf': 1, 'tf-idf': 1.1429365047502662},\n '11953': {'positions': [31,\n   53,\n   76,\n   85,\n   105,\n   127,\n   142,\n   155,\n   236,\n   260,\n   269,\n   281,\n   439,\n   476,\n   716,\n   729,\n   878,\n   1080,\n   1156,\n   1213,\n   1236,\n   1243,\n   1263,\n   1312,\n   1337,\n   1502],\n  'tf': 26,\n  'tf-idf': 2.7601611973948152},\n '11954': {'positions': [25, 65, 152, 250, 255, 284],\n  'tf': 6,\n  'tf-idf': 2.0323139750307972},\n '11962': {'positions': [143], 'tf': 1, 'tf-idf': 1.1429365047502662},\n '11963': {'positions': [109, 162], 'tf': 2, 'tf-idf': 1.4869946758194448},\n '11971': {'positions': [9, 26, 170, 329, 437, 451, 495],\n  'tf': 7,\n  'tf-idf': 2.1088299047754617},\n '11976': {'positions': [235], 'tf': 1, 'tf-idf': 1.1429365047502662},\n '11977': {'positions': [855], 'tf': 1, 'tf-idf': 1.1429365047502662},\n '11982': {'positions': [17, 289], 'tf': 2, 'tf-idf': 1.4869946758194448},\n '11983': {'positions': [6, 242], 'tf': 2, 'tf-idf': 1.4869946758194448},\n '11988': {'positions': [12, 19, 124, 290, 360],\n  'tf': 5,\n  'tf-idf': 1.9418148384313538},\n '11991': {'positions': [37], 'tf': 1, 'tf-idf': 1.1429365047502662},\n '11997': {'positions': [24, 44, 47, 84],\n  'tf': 4,\n  'tf-idf': 1.8310528468886234},\n '12003': {'positions': [266], 'tf': 1, 'tf-idf': 1.1429365047502662},\n '12004': {'positions': [26, 48], 'tf': 2, 'tf-idf': 1.4869946758194448},\n '12010': {'positions': [170], 'tf': 1, 'tf-idf': 1.1429365047502662},\n '12019': {'positions': [26], 'tf': 1, 'tf-idf': 1.1429365047502662},\n '12021': {'positions': [174, 241, 276],\n  'tf': 3,\n  'tf-idf': 1.6882558039616187},\n '12026': {'positions': [62, 148], 'tf': 2, 'tf-idf': 1.4869946758194448},\n '12027': {'positions': [84], 'tf': 1, 'tf-idf': 1.1429365047502662},\n '12039': {'positions': [186], 'tf': 1, 'tf-idf': 1.1429365047502662},\n '12044': {'positions': [72], 'tf': 1, 'tf-idf': 1.1429365047502662},\n '12049': {'positions': [79, 145], 'tf': 2, 'tf-idf': 1.4869946758194448},\n '12058': {'positions': [181], 'tf': 1, 'tf-idf': 1.1429365047502662},\n '12063': {'positions': [2711, 2766, 2782, 2823, 2835],\n  'tf': 5,\n  'tf-idf': 1.9418148384313538},\n '12068': {'positions': [471], 'tf': 1, 'tf-idf': 1.1429365047502662},\n '12072': {'positions': [59], 'tf': 1, 'tf-idf': 1.1429365047502662},\n '12074': {'positions': [93], 'tf': 1, 'tf-idf': 1.1429365047502662},\n '12079': {'positions': [64], 'tf': 1, 'tf-idf': 1.1429365047502662},\n '12085': {'positions': [7], 'tf': 1, 'tf-idf': 1.1429365047502662},\n '12091': {'positions': [8], 'tf': 1, 'tf-idf': 1.1429365047502662},\n '12103': {'positions': [383, 2417, 2423, 2432, 2464, 2646, 2666, 2719],\n  'tf': 8,\n  'tf-idf': 2.1751110179578017},\n '12106': {'positions': [49], 'tf': 1, 'tf-idf': 1.1429365047502662},\n '12109': {'positions': [413], 'tf': 1, 'tf-idf': 1.1429365047502662},\n '12115': {'positions': [125], 'tf': 1, 'tf-idf': 1.1429365047502662},\n '12123': {'positions': [194], 'tf': 1, 'tf-idf': 1.1429365047502662},\n '12128': {'positions': [8, 16, 114, 122, 142, 151, 155, 162],\n  'tf': 8,\n  'tf-idf': 2.1751110179578017},\n '12130': {'positions': [16,\n   26,\n   41,\n   51,\n   56,\n   61,\n   73,\n   108,\n   162,\n   167,\n   171,\n   173,\n   206,\n   228,\n   233,\n   249,\n   266],\n  'tf': 17,\n  'tf-idf': 2.549261494224086},\n '12132': {'positions': [28, 32, 169, 184, 774, 803],\n  'tf': 6,\n  'tf-idf': 2.0323139750307972},\n '12134': {'positions': [6, 16, 33, 68, 369, 372, 376, 379, 383, 387, 393],\n  'tf': 11,\n  'tf-idf': 2.333182220397503},\n '12136': {'positions': [831], 'tf': 1, 'tf-idf': 1.1429365047502662},\n '12141': {'positions': [45], 'tf': 1, 'tf-idf': 1.1429365047502662},\n '12147': {'positions': [111, 120], 'tf': 2, 'tf-idf': 1.4869946758194448},\n '12156': {'positions': [87, 107], 'tf': 2, 'tf-idf': 1.4869946758194448},\n '12162': {'positions': [8], 'tf': 1, 'tf-idf': 1.1429365047502662},\n '12166': {'positions': [301], 'tf': 1, 'tf-idf': 1.1429365047502662},\n '12172': {'positions': [65,\n   105,\n   113,\n   128,\n   132,\n   181,\n   191,\n   260,\n   317,\n   350,\n   364,\n   400,\n   410,\n   413,\n   430,\n   471,\n   486,\n   540,\n   560,\n   590,\n   659],\n  'tf': 21,\n  'tf-idf': 2.6541492039868144},\n '12174': {'positions': [109], 'tf': 1, 'tf-idf': 1.1429365047502662},\n '12175': {'positions': [93, 103], 'tf': 2, 'tf-idf': 1.4869946758194448},\n '12195': {'positions': [65], 'tf': 1, 'tf-idf': 1.1429365047502662},\n '12198': {'positions': [457], 'tf': 1, 'tf-idf': 1.1429365047502662},\n '12200': {'positions': [109, 115], 'tf': 2, 'tf-idf': 1.4869946758194448}}"
     },
     "execution_count": 45,
     "metadata": {},
     "output_type": "execute_result"
    }
   ],
   "source": [
    "dictionary['دانشگاه']['docs']\n",
    "    "
   ],
   "metadata": {
    "collapsed": false,
    "ExecuteTime": {
     "end_time": "2024-06-29T09:41:50.499453100Z",
     "start_time": "2024-06-29T09:41:50.420072800Z"
    }
   },
   "id": "3633d65bc4d3e4d0"
  },
  {
   "cell_type": "markdown",
   "source": [
    "## Only tf Positional Index"
   ],
   "metadata": {
    "collapsed": false
   },
   "id": "7d364683df2bf03d"
  },
  {
   "cell_type": "markdown",
   "source": [
    "## Query Scoring"
   ],
   "metadata": {
    "collapsed": false
   },
   "id": "f3c71c4542f497c3"
  },
  {
   "cell_type": "code",
   "execution_count": 46,
   "outputs": [],
   "source": [
    "def query_preprocess(query):\n",
    "    query = delete_punctuations(query)\n",
    "    query = normalizer.normalize(query)\n",
    "    query_tokens = tokenize(query)\n",
    "    stemmed_query_tokens = stemming(query_tokens)\n",
    "    return stemmed_query_tokens\n",
    "\n",
    "def doc_vector_length(doc_id):\n",
    "    counter = 0\n",
    "    for term in doc_vectors[doc_id]:\n",
    "        counter += np.power(doc_vectors[doc_id][term],2)\n",
    "    return np.sqrt(counter)\n",
    "\n",
    "def cosine_score(query, k):\n",
    "    scores = {} #doc_id : score\n",
    "    q_tokens = query_preprocess(query)\n",
    "    count = Counter(q_tokens)\n",
    "    for q_term in q_tokens:\n",
    "        w_tq = (1+np.log10(count[q_term])) \n",
    "        for doc in dictionary[q_term]['chmp_list']:\n",
    "            w_td = dictionary[q_term]['docs'][doc]['tf-idf']\n",
    "            if doc in scores:\n",
    "                scores[doc] += w_tq * w_td\n",
    "            else:\n",
    "                scores[doc] = w_tq * w_td\n",
    "    normalized_scores = {}\n",
    "    for d in scores:\n",
    "        normalized_scores[d] = scores[d] / doc_vector_length(d)\n",
    "    sorted_scores = sorted(normalized_scores.items(), key=lambda x:x[1], reverse=True)\n",
    "    return sorted_scores[:k]\n"
   ],
   "metadata": {
    "collapsed": false,
    "ExecuteTime": {
     "end_time": "2024-06-29T09:41:52.932478200Z",
     "start_time": "2024-06-29T09:41:52.913491100Z"
    }
   },
   "id": "24ad3db97d787c43"
  },
  {
   "cell_type": "code",
   "execution_count": 53,
   "outputs": [
    {
     "name": "stdout",
     "output_type": "stream",
     "text": [
      "تحقیق و تفحص از «شستا» و «صندوق بازنشستگی صداوسیما» در کمیسیون اجتماعی تصویب شد\n",
      "https://www.farsnews.ir/news/14000818000805/تحقیق-و-تفحص-از-شستا-و-صندوق-بازنشستگی-صداوسیما-در-کمیسیون-اجتماعی\n",
      "Rank 0\n",
      "Cosine Score: 0.5449146749670559\n",
      "-----------------\n",
      "قرائت گزارش در مجلس درباره عملکرد بودجه سال ۱۳۹۹\n",
      "https://www.farsnews.ir/news/14000923000057/قرائت-گزارش-در-مجلس-درباره-عملکرد-بودجه-سال-۱۳۹۹\n",
      "Rank 1\n",
      "Cosine Score: 0.4990358660017677\n",
      "-----------------\n",
      "لایحه بودجه حوالی 20 بهمن به صحن مجلس می‌آید\n",
      "https://www.farsnews.ir/news/14000921000754/لایحه-بودجه-حوالی-20-بهمن-به-صحن-مجلس-می‌آید\n",
      "Rank 2\n",
      "Cosine Score: 0.394031687493867\n",
      "-----------------\n"
     ]
    }
   ],
   "source": [
    "results = cosine_score(\"تفحص شستا\",3)\n",
    "for rank,(doc_id , score) in  enumerate(results):\n",
    "    print(news[doc_id]['title'])\n",
    "    print(news[doc_id]['url'])\n",
    "    print('Rank',rank)\n",
    "    print('Cosine Score:', score)\n",
    "    print(\"-----------------\")\n"
   ],
   "metadata": {
    "collapsed": false,
    "ExecuteTime": {
     "end_time": "2024-06-29T09:46:59.793077400Z",
     "start_time": "2024-06-29T09:46:59.661235900Z"
    }
   },
   "id": "f8c6ab7f8c668994"
  },
  {
   "cell_type": "code",
   "execution_count": null,
   "outputs": [],
   "source": [],
   "metadata": {
    "collapsed": false,
    "ExecuteTime": {
     "end_time": "2024-06-29T09:29:04.706632600Z",
     "start_time": "2024-06-29T09:29:04.697634300Z"
    }
   },
   "id": "75645323a11561f5"
  }
 ],
 "metadata": {
  "kernelspec": {
   "display_name": "Python 3",
   "language": "python",
   "name": "python3"
  },
  "language_info": {
   "codemirror_mode": {
    "name": "ipython",
    "version": 2
   },
   "file_extension": ".py",
   "mimetype": "text/x-python",
   "name": "python",
   "nbconvert_exporter": "python",
   "pygments_lexer": "ipython2",
   "version": "2.7.6"
  }
 },
 "nbformat": 4,
 "nbformat_minor": 5
}
